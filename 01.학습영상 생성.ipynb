{
 "cells": [
  {
   "cell_type": "code",
   "execution_count": 1,
   "metadata": {},
   "outputs": [],
   "source": [
    "import pandas as pd\n",
    "import cv2\n",
    "import numpy as np\n",
    "from PIL import Image\n",
    "import os"
   ]
  },
  {
   "cell_type": "code",
   "execution_count": 2,
   "metadata": {},
   "outputs": [
    {
     "data": {
      "text/html": [
       "<div>\n",
       "<style scoped>\n",
       "    .dataframe tbody tr th:only-of-type {\n",
       "        vertical-align: middle;\n",
       "    }\n",
       "\n",
       "    .dataframe tbody tr th {\n",
       "        vertical-align: top;\n",
       "    }\n",
       "\n",
       "    .dataframe thead th {\n",
       "        text-align: right;\n",
       "    }\n",
       "</style>\n",
       "<table border=\"1\" class=\"dataframe\">\n",
       "  <thead>\n",
       "    <tr style=\"text-align: right;\">\n",
       "      <th></th>\n",
       "      <th>Unnamed: 0</th>\n",
       "      <th>artist</th>\n",
       "      <th>date</th>\n",
       "      <th>genre</th>\n",
       "      <th>pixelsx</th>\n",
       "      <th>pixelsy</th>\n",
       "      <th>size_bytes</th>\n",
       "      <th>source</th>\n",
       "      <th>style</th>\n",
       "      <th>title</th>\n",
       "      <th>artist_group</th>\n",
       "      <th>in_train</th>\n",
       "      <th>new_filename</th>\n",
       "    </tr>\n",
       "  </thead>\n",
       "  <tbody>\n",
       "    <tr>\n",
       "      <th>0</th>\n",
       "      <td>0</td>\n",
       "      <td>Barnett Newman</td>\n",
       "      <td>1955.0</td>\n",
       "      <td>abstract</td>\n",
       "      <td>15530.0</td>\n",
       "      <td>6911.0</td>\n",
       "      <td>9201912.0</td>\n",
       "      <td>wikiart</td>\n",
       "      <td>Color Field Painting</td>\n",
       "      <td>Uriel</td>\n",
       "      <td>train_only</td>\n",
       "      <td>True</td>\n",
       "      <td>102257.jpg</td>\n",
       "    </tr>\n",
       "    <tr>\n",
       "      <th>1</th>\n",
       "      <td>1</td>\n",
       "      <td>Barnett Newman</td>\n",
       "      <td>1950.0</td>\n",
       "      <td>abstract</td>\n",
       "      <td>14559.0</td>\n",
       "      <td>6866.0</td>\n",
       "      <td>8867532.0</td>\n",
       "      <td>wikiart</td>\n",
       "      <td>Color Field Painting</td>\n",
       "      <td>Vir Heroicus Sublimis</td>\n",
       "      <td>train_only</td>\n",
       "      <td>True</td>\n",
       "      <td>75232.jpg</td>\n",
       "    </tr>\n",
       "    <tr>\n",
       "      <th>2</th>\n",
       "      <td>2</td>\n",
       "      <td>kiri nichol</td>\n",
       "      <td>2013.0</td>\n",
       "      <td>NaN</td>\n",
       "      <td>9003.0</td>\n",
       "      <td>9004.0</td>\n",
       "      <td>1756681.0</td>\n",
       "      <td>NaN</td>\n",
       "      <td>Neoplasticism</td>\n",
       "      <td>NaN</td>\n",
       "      <td>test_only</td>\n",
       "      <td>False</td>\n",
       "      <td>32145.jpg</td>\n",
       "    </tr>\n",
       "    <tr>\n",
       "      <th>3</th>\n",
       "      <td>3</td>\n",
       "      <td>kiri nichol</td>\n",
       "      <td>2013.0</td>\n",
       "      <td>NaN</td>\n",
       "      <td>9003.0</td>\n",
       "      <td>9004.0</td>\n",
       "      <td>1942046.0</td>\n",
       "      <td>NaN</td>\n",
       "      <td>Neoplasticism</td>\n",
       "      <td>NaN</td>\n",
       "      <td>test_only</td>\n",
       "      <td>False</td>\n",
       "      <td>20304.jpg</td>\n",
       "    </tr>\n",
       "    <tr>\n",
       "      <th>4</th>\n",
       "      <td>4</td>\n",
       "      <td>kiri nichol</td>\n",
       "      <td>2013.0</td>\n",
       "      <td>NaN</td>\n",
       "      <td>9003.0</td>\n",
       "      <td>9004.0</td>\n",
       "      <td>1526212.0</td>\n",
       "      <td>NaN</td>\n",
       "      <td>Neoplasticism</td>\n",
       "      <td>NaN</td>\n",
       "      <td>test_only</td>\n",
       "      <td>False</td>\n",
       "      <td>836.jpg</td>\n",
       "    </tr>\n",
       "  </tbody>\n",
       "</table>\n",
       "</div>"
      ],
      "text/plain": [
       "   Unnamed: 0          artist    date     genre  pixelsx  pixelsy  size_bytes  \\\n",
       "0           0  Barnett Newman  1955.0  abstract  15530.0   6911.0   9201912.0   \n",
       "1           1  Barnett Newman  1950.0  abstract  14559.0   6866.0   8867532.0   \n",
       "2           2     kiri nichol  2013.0       NaN   9003.0   9004.0   1756681.0   \n",
       "3           3     kiri nichol  2013.0       NaN   9003.0   9004.0   1942046.0   \n",
       "4           4     kiri nichol  2013.0       NaN   9003.0   9004.0   1526212.0   \n",
       "\n",
       "    source                 style                  title artist_group  \\\n",
       "0  wikiart  Color Field Painting                  Uriel   train_only   \n",
       "1  wikiart  Color Field Painting  Vir Heroicus Sublimis   train_only   \n",
       "2      NaN         Neoplasticism                    NaN    test_only   \n",
       "3      NaN         Neoplasticism                    NaN    test_only   \n",
       "4      NaN         Neoplasticism                    NaN    test_only   \n",
       "\n",
       "   in_train new_filename  \n",
       "0      True   102257.jpg  \n",
       "1      True    75232.jpg  \n",
       "2     False    32145.jpg  \n",
       "3     False    20304.jpg  \n",
       "4     False      836.jpg  "
      ]
     },
     "execution_count": 2,
     "metadata": {},
     "output_type": "execute_result"
    }
   ],
   "source": [
    "art = pd.read_csv('../Data/Artist/all_select.csv')\n",
    "art.head()"
   ]
  },
  {
   "cell_type": "code",
   "execution_count": 3,
   "metadata": {},
   "outputs": [
    {
     "data": {
      "text/plain": [
       "array([  5106,  34132,  70935,  42209,  94507,  48972,  39472,  29295,\n",
       "        29474,   1269,  87323,  27498,  25524,  31277,  28078,  85780,\n",
       "        43854,  32984,  35686,  80678,  60485,  63578,  81714,  11399,\n",
       "        80290,  83355,  41491,  32661,   5629, 100777,  98441,   4582,\n",
       "        15595,  40128,  22997,  97187,  34364,  93595,  94944,   8282,\n",
       "        23232,  53623,  88581,  39378,  49168,  77719,  96078,  14181,\n",
       "        81478,  15007])"
      ]
     },
     "execution_count": 3,
     "metadata": {},
     "output_type": "execute_result"
    }
   ],
   "source": [
    "idx = np.random.randint(0, len(art), size=50)\n",
    "idx"
   ]
  },
  {
   "cell_type": "code",
   "execution_count": 4,
   "metadata": {},
   "outputs": [],
   "source": [
    "file_list = art.iloc[idx]['new_filename'].to_list()\n",
    "file_list[:5]\n",
    "\n",
    "\n",
    "# 랜덤으로 선택한 그림정보 생성 - 스케치 파일 이거나 가로세로비가 너무 클 경우 학습정보에서 배제\n",
    "current_selet = art.iloc[idx].reset_index(drop=False)\n",
    "current_selet.to_csv('../Data/Artist/current_select.csv', index=False)"
   ]
  },
  {
   "cell_type": "markdown",
   "metadata": {},
   "source": [
    "---\n",
    "# -15 ~ 15도 까지 0.5도씩 회전하여 영상 생성"
   ]
  },
  {
   "cell_type": "code",
   "execution_count": 5,
   "metadata": {},
   "outputs": [],
   "source": [
    "def imageGenerate(src, max_height, angle):\n",
    "    \n",
    "    max_width = np.uint(max_height * 1.5)\n",
    "\n",
    "    height, width = src.shape[0:2]\n",
    "    ratio = height / max_height\n",
    "    \n",
    "    # 입력 이미지의 높이가 설정한 이미지의 최대 높이보다 크면 리사이즈 수행\n",
    "    if height > max_height :\n",
    "        resize_height = max_height\n",
    "        resize_width = np.uint(width // ratio)\n",
    "        img = cv2.resize(src, (resize_width, resize_height), cv2.INTER_AREA)\n",
    "        dy = 0\n",
    "    \n",
    "    # 입력 이미지의 높이가 설정한 이미지의 최대 높이보다 작으면 리사이즈 수행하지 않음\n",
    "    else : \n",
    "        resize_height = height\n",
    "        resize_width = width\n",
    "        dy = (max_height - resize_height) // 2\n",
    "\n",
    "    dx = (max_width - resize_width) // 2\n",
    "    mtrx = np.float32([[1,0,dx],[0,1,dy]])\n",
    "\n",
    "    # 입력 이미지를 규격 프레임의 중심에 넣는다\n",
    "    img = cv2.warpAffine(img, mtrx, (max_width, max_height))\n",
    "\n",
    "    # 이미지 회전\n",
    "    mtrx_rot = cv2.getRotationMatrix2D((max_width/2, max_height/2), angle, 0.9)\n",
    "    return cv2.warpAffine(img, mtrx_rot, (max_width,max_height))  \n",
    "     "
   ]
  },
  {
   "cell_type": "code",
   "execution_count": 6,
   "metadata": {},
   "outputs": [
    {
     "data": {
      "text/plain": [
       "array([-15. , -14.5, -14. , -13.5, -13. , -12.5, -12. , -11.5, -11. ,\n",
       "       -10.5, -10. ,  -9.5,  -9. ,  -8.5,  -8. ,  -7.5,  -7. ,  -6.5,\n",
       "        -6. ,  -5.5,  -5. ,  -4.5,  -4. ,  -3.5,  -3. ,  -2.5,  -2. ,\n",
       "        -1.5,  -1. ,  -0.5,   0. ,   0.5,   1. ,   1.5,   2. ,   2.5,\n",
       "         3. ,   3.5,   4. ,   4.5,   5. ,   5.5,   6. ,   6.5,   7. ,\n",
       "         7.5,   8. ,   8.5,   9. ,   9.5,  10. ,  10.5,  11. ,  11.5,\n",
       "        12. ,  12.5,  13. ,  13.5,  14. ,  14.5])"
      ]
     },
     "execution_count": 6,
     "metadata": {},
     "output_type": "execute_result"
    }
   ],
   "source": [
    "# 각도범위 -15 ~ 15도 이며 0.5도씩 증가\n",
    "angles = (np.arange(-15, 15, 0.5))\n",
    "angles"
   ]
  },
  {
   "cell_type": "code",
   "execution_count": 7,
   "metadata": {},
   "outputs": [],
   "source": [
    "read_path = '../Data/Artist/original/org_select/'\n",
    "save_path = '../Data/Artist/train/'\n",
    "\n",
    "max_height = 400\n",
    "\n",
    "for file in file_list:\n",
    "    try :\n",
    "        file_path = read_path + file\n",
    "        img = cv2.imread(file_path, cv2.IMREAD_COLOR)\n",
    "        idx = 0\n",
    "\n",
    "        (height, width) = img.shape[0:2]\n",
    "        btm = np.mean(img)\n",
    "        \n",
    "        if (width / height) < 1.5 and btm < 185 : # 가로세로비 1.5 이하이며 밝기 평균이 185(스케치 제외) 미만인 이미지만 선택\n",
    "            for angle in angles : \n",
    "                file_name = save_path + file.replace('.jpg', '') + '_%02d'%idx + '.jpg'\n",
    "                img2 = imageGenerate(img, max_height, angle)\n",
    "                cv2.imwrite(file_name, img2)\n",
    "                idx += 1  \n",
    "    except :\n",
    "        pass\n"
   ]
  },
  {
   "cell_type": "code",
   "execution_count": null,
   "metadata": {},
   "outputs": [],
   "source": []
  }
 ],
 "metadata": {
  "kernelspec": {
   "display_name": "Python 3.9.13 ('tensorflow')",
   "language": "python",
   "name": "python3"
  },
  "language_info": {
   "codemirror_mode": {
    "name": "ipython",
    "version": 3
   },
   "file_extension": ".py",
   "mimetype": "text/x-python",
   "name": "python",
   "nbconvert_exporter": "python",
   "pygments_lexer": "ipython3",
   "version": "3.9.13"
  },
  "orig_nbformat": 4,
  "vscode": {
   "interpreter": {
    "hash": "62ad4d91cf02108988eea398b22e5055b749dc5d8f13835b61842a3d4279d5d7"
   }
  }
 },
 "nbformat": 4,
 "nbformat_minor": 2
}
