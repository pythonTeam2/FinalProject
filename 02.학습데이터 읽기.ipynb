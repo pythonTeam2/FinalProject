{
 "cells": [
  {
   "cell_type": "code",
   "execution_count": 1,
   "metadata": {},
   "outputs": [],
   "source": [
    "import cv2\n",
    "from PIL import Image\n",
    "import pandas as pd\n",
    "import glob\n",
    "import numpy as np\n",
    "import matplotlib.pyplot as plt\n",
    "from sklearn.model_selection import train_test_split\n",
    "from tensorflow import keras"
   ]
  },
  {
   "cell_type": "code",
   "execution_count": 2,
   "metadata": {},
   "outputs": [
    {
     "data": {
      "text/html": [
       "<div>\n",
       "<style scoped>\n",
       "    .dataframe tbody tr th:only-of-type {\n",
       "        vertical-align: middle;\n",
       "    }\n",
       "\n",
       "    .dataframe tbody tr th {\n",
       "        vertical-align: top;\n",
       "    }\n",
       "\n",
       "    .dataframe thead th {\n",
       "        text-align: right;\n",
       "    }\n",
       "</style>\n",
       "<table border=\"1\" class=\"dataframe\">\n",
       "  <thead>\n",
       "    <tr style=\"text-align: right;\">\n",
       "      <th></th>\n",
       "      <th>index</th>\n",
       "      <th>Unnamed: 0</th>\n",
       "      <th>artist</th>\n",
       "      <th>date</th>\n",
       "      <th>genre</th>\n",
       "      <th>pixelsx</th>\n",
       "      <th>pixelsy</th>\n",
       "      <th>size_bytes</th>\n",
       "      <th>source</th>\n",
       "      <th>style</th>\n",
       "      <th>title</th>\n",
       "      <th>artist_group</th>\n",
       "      <th>in_train</th>\n",
       "      <th>new_filename</th>\n",
       "    </tr>\n",
       "  </thead>\n",
       "  <tbody>\n",
       "    <tr>\n",
       "      <th>0</th>\n",
       "      <td>26644</td>\n",
       "      <td>26644</td>\n",
       "      <td>Frederic Edwin Church</td>\n",
       "      <td>1866.0</td>\n",
       "      <td>landscape</td>\n",
       "      <td>1280.0</td>\n",
       "      <td>849.0</td>\n",
       "      <td>204102.0</td>\n",
       "      <td>wikiart</td>\n",
       "      <td>Romanticism</td>\n",
       "      <td>Rainy Season in the Tropics</td>\n",
       "      <td>test_only</td>\n",
       "      <td>False</td>\n",
       "      <td>6976.jpg</td>\n",
       "    </tr>\n",
       "    <tr>\n",
       "      <th>1</th>\n",
       "      <td>50340</td>\n",
       "      <td>50340</td>\n",
       "      <td>Berthe Morisot</td>\n",
       "      <td>c.1889</td>\n",
       "      <td>landscape</td>\n",
       "      <td>710.0</td>\n",
       "      <td>989.0</td>\n",
       "      <td>152779.0</td>\n",
       "      <td>wikiart</td>\n",
       "      <td>Impressionism</td>\n",
       "      <td>Carriage in the Bois de Boulogne</td>\n",
       "      <td>train_and_test</td>\n",
       "      <td>True</td>\n",
       "      <td>97969.jpg</td>\n",
       "    </tr>\n",
       "    <tr>\n",
       "      <th>2</th>\n",
       "      <td>5440</td>\n",
       "      <td>5440</td>\n",
       "      <td>James Tissot</td>\n",
       "      <td>1877</td>\n",
       "      <td>portrait</td>\n",
       "      <td>1590.0</td>\n",
       "      <td>2854.0</td>\n",
       "      <td>371352.0</td>\n",
       "      <td>wikiart</td>\n",
       "      <td>Realism</td>\n",
       "      <td>Mavourneen (Portrait of Kathleen Newton)</td>\n",
       "      <td>train_and_test</td>\n",
       "      <td>False</td>\n",
       "      <td>2389.jpg</td>\n",
       "    </tr>\n",
       "    <tr>\n",
       "      <th>3</th>\n",
       "      <td>73175</td>\n",
       "      <td>73175</td>\n",
       "      <td>Kazimir Malevich</td>\n",
       "      <td>NaN</td>\n",
       "      <td>abstract</td>\n",
       "      <td>800.0</td>\n",
       "      <td>514.0</td>\n",
       "      <td>106696.0</td>\n",
       "      <td>wikiart</td>\n",
       "      <td>Constructivism</td>\n",
       "      <td>Spatial Suprematism</td>\n",
       "      <td>train_and_test</td>\n",
       "      <td>True</td>\n",
       "      <td>66452.jpg</td>\n",
       "    </tr>\n",
       "    <tr>\n",
       "      <th>4</th>\n",
       "      <td>23479</td>\n",
       "      <td>23479</td>\n",
       "      <td>Eyvind Earle</td>\n",
       "      <td>1996.0</td>\n",
       "      <td>landscape</td>\n",
       "      <td>1280.0</td>\n",
       "      <td>950.0</td>\n",
       "      <td>317156.0</td>\n",
       "      <td>wikiart</td>\n",
       "      <td>Magic Realism</td>\n",
       "      <td>Blazing Glory</td>\n",
       "      <td>train_and_test</td>\n",
       "      <td>True</td>\n",
       "      <td>32327.jpg</td>\n",
       "    </tr>\n",
       "  </tbody>\n",
       "</table>\n",
       "</div>"
      ],
      "text/plain": [
       "   index  Unnamed: 0                 artist    date      genre  pixelsx  \\\n",
       "0  26644       26644  Frederic Edwin Church  1866.0  landscape   1280.0   \n",
       "1  50340       50340         Berthe Morisot  c.1889  landscape    710.0   \n",
       "2   5440        5440           James Tissot    1877   portrait   1590.0   \n",
       "3  73175       73175       Kazimir Malevich     NaN   abstract    800.0   \n",
       "4  23479       23479           Eyvind Earle  1996.0  landscape   1280.0   \n",
       "\n",
       "   pixelsy  size_bytes   source           style  \\\n",
       "0    849.0    204102.0  wikiart     Romanticism   \n",
       "1    989.0    152779.0  wikiart   Impressionism   \n",
       "2   2854.0    371352.0  wikiart         Realism   \n",
       "3    514.0    106696.0  wikiart  Constructivism   \n",
       "4    950.0    317156.0  wikiart   Magic Realism   \n",
       "\n",
       "                                      title    artist_group  in_train  \\\n",
       "0               Rainy Season in the Tropics       test_only     False   \n",
       "1          Carriage in the Bois de Boulogne  train_and_test      True   \n",
       "2  Mavourneen (Portrait of Kathleen Newton)  train_and_test     False   \n",
       "3                       Spatial Suprematism  train_and_test      True   \n",
       "4                             Blazing Glory  train_and_test      True   \n",
       "\n",
       "  new_filename  \n",
       "0     6976.jpg  \n",
       "1    97969.jpg  \n",
       "2     2389.jpg  \n",
       "3    66452.jpg  \n",
       "4    32327.jpg  "
      ]
     },
     "execution_count": 2,
     "metadata": {},
     "output_type": "execute_result"
    }
   ],
   "source": [
    "# 랜덤으로 선택한 그림 정보 읽기\n",
    "art = pd.read_csv('../Data/Artist/csv/current_select.csv')\n",
    "art.head()"
   ]
  },
  {
   "cell_type": "markdown",
   "metadata": {},
   "source": [
    "---\n",
    "# 회전한 그림을 읽어 train 정보 생성"
   ]
  },
  {
   "cell_type": "code",
   "execution_count": 3,
   "metadata": {},
   "outputs": [
    {
     "data": {
      "text/plain": [
       "2220"
      ]
     },
     "execution_count": 3,
     "metadata": {},
     "output_type": "execute_result"
    }
   ],
   "source": [
    "fileCount = len([name for name in glob.glob('../Data/Artist/train/*.jpg')])\n",
    "fileCount"
   ]
  },
  {
   "cell_type": "code",
   "execution_count": 4,
   "metadata": {},
   "outputs": [],
   "source": [
    "height = 400\n",
    "width = 600\n",
    "colors = 3\n",
    "\n",
    "trainData = np.zeros(fileCount * height * width * colors).reshape(-1, height, width, colors)"
   ]
  },
  {
   "cell_type": "code",
   "execution_count": 5,
   "metadata": {},
   "outputs": [],
   "source": [
    "figure_slt = []\n",
    "i = 0\n",
    "for file in sorted(glob.glob('../Data/Artist/train/*.jpg')):\n",
    "    file_name = file[:file.find('_')].replace('../Data/Artist/train/', '') + '.jpg'\n",
    "    figure_slt.append(file_name)\n",
    "    img = np.array(Image.open(file), dtype=np.int32)\n",
    "    trainData[i] = img\n",
    "    i += 1\n"
   ]
  },
  {
   "cell_type": "markdown",
   "metadata": {},
   "source": [
    "# target 정보 생성"
   ]
  },
  {
   "cell_type": "code",
   "execution_count": 6,
   "metadata": {},
   "outputs": [
    {
     "name": "stdout",
     "output_type": "stream",
     "text": [
      "37\n",
      "['100460.jpg', '100826.jpg', '14702.jpg', '1772.jpg', '18034.jpg']\n"
     ]
    }
   ],
   "source": [
    "unq_file = list(sorted(set(figure_slt)))\n",
    "print(len(unq_file))\n",
    "print(unq_file[:5])"
   ]
  },
  {
   "cell_type": "code",
   "execution_count": 7,
   "metadata": {},
   "outputs": [],
   "source": [
    "targetData = []\n",
    "\n",
    "for file in figure_slt:\n",
    "    id = [idx for idx in range(len(unq_file)) if file == unq_file[idx]]\n",
    "    targetData.append(id)"
   ]
  },
  {
   "cell_type": "markdown",
   "metadata": {},
   "source": [
    "# train, valid, test 데이터로 분리"
   ]
  },
  {
   "cell_type": "code",
   "execution_count": 8,
   "metadata": {},
   "outputs": [],
   "source": [
    "train = trainData / 255.0"
   ]
  },
  {
   "cell_type": "code",
   "execution_count": 9,
   "metadata": {},
   "outputs": [],
   "source": [
    "targetData = np.array(targetData).flatten()"
   ]
  },
  {
   "cell_type": "code",
   "execution_count": 10,
   "metadata": {},
   "outputs": [],
   "source": [
    "trainData, testData, trainTarget, testTarget = train_test_split(\n",
    "    train, targetData, test_size=0.2, random_state=42\n",
    ")\n",
    "\n",
    "trainData, valData, trainTarget, valTarget = train_test_split(\n",
    "    trainData, trainTarget, test_size=0.2, random_state=42\n",
    ")"
   ]
  },
  {
   "cell_type": "code",
   "execution_count": 11,
   "metadata": {},
   "outputs": [
    {
     "name": "stdout",
     "output_type": "stream",
     "text": [
      "(1420, 400, 600, 3)\n",
      "(1420,)\n",
      "(356, 400, 600, 3)\n",
      "(356,)\n",
      "(444, 400, 600, 3)\n",
      "(444,)\n"
     ]
    }
   ],
   "source": [
    "print(trainData.shape)\n",
    "print(trainTarget.shape)\n",
    "print(valData.shape)\n",
    "print(valTarget.shape)\n",
    "print(testData.shape)\n",
    "print(testTarget.shape)"
   ]
  },
  {
   "cell_type": "markdown",
   "metadata": {},
   "source": [
    "---\n",
    "# 딥러닝 모델 생성"
   ]
  },
  {
   "cell_type": "code",
   "execution_count": 12,
   "metadata": {},
   "outputs": [
    {
     "name": "stdout",
     "output_type": "stream",
     "text": [
      "Metal device set to: Apple M1 Pro\n",
      "\n",
      "systemMemory: 32.00 GB\n",
      "maxCacheSize: 10.67 GB\n",
      "\n"
     ]
    },
    {
     "name": "stderr",
     "output_type": "stream",
     "text": [
      "2022-08-03 11:59:01.549366: I tensorflow/core/common_runtime/pluggable_device/pluggable_device_factory.cc:305] Could not identify NUMA node of platform GPU ID 0, defaulting to 0. Your kernel may not have been built with NUMA support.\n",
      "2022-08-03 11:59:01.550477: I tensorflow/core/common_runtime/pluggable_device/pluggable_device_factory.cc:271] Created TensorFlow device (/job:localhost/replica:0/task:0/device:GPU:0 with 0 MB memory) -> physical PluggableDevice (device: 0, name: METAL, pci bus id: <undefined>)\n"
     ]
    }
   ],
   "source": [
    "model = keras.Sequential()"
   ]
  },
  {
   "cell_type": "code",
   "execution_count": 13,
   "metadata": {},
   "outputs": [],
   "source": [
    "model.add(\n",
    "    keras.layers.Conv2D(\n",
    "        32, \n",
    "        kernel_size = 3, \n",
    "        activation = 'relu',\n",
    "        padding = 'same',\n",
    "        input_shape = (height, width, colors) \n",
    "    )\n",
    ")"
   ]
  },
  {
   "cell_type": "code",
   "execution_count": 14,
   "metadata": {},
   "outputs": [],
   "source": [
    "model.add(keras.layers.MaxPooling2D(2))"
   ]
  },
  {
   "cell_type": "code",
   "execution_count": 15,
   "metadata": {},
   "outputs": [],
   "source": [
    "model.add(\n",
    "    keras.layers.Conv2D(\n",
    "        32, \n",
    "        kernel_size = 3, \n",
    "        activation = 'relu',\n",
    "        padding = 'same',\n",
    "    )\n",
    ")"
   ]
  },
  {
   "cell_type": "code",
   "execution_count": 16,
   "metadata": {},
   "outputs": [],
   "source": [
    "model.add(keras.layers.MaxPooling2D(2))"
   ]
  },
  {
   "cell_type": "code",
   "execution_count": 17,
   "metadata": {},
   "outputs": [],
   "source": [
    "model.add(\n",
    "    keras.layers.Conv2D(\n",
    "        64, \n",
    "        kernel_size = 3, \n",
    "        activation = 'relu',\n",
    "        padding = 'same',\n",
    "    )\n",
    ")"
   ]
  },
  {
   "cell_type": "code",
   "execution_count": 18,
   "metadata": {},
   "outputs": [],
   "source": [
    "model.add(keras.layers.MaxPooling2D(2))"
   ]
  },
  {
   "cell_type": "code",
   "execution_count": 19,
   "metadata": {},
   "outputs": [],
   "source": [
    "model.add(keras.layers.Flatten())\n",
    "model.add(keras.layers.Dense(200, activation='relu'))\n",
    "model.add(keras.layers.Dropout(0.4))  # 50% Drop Out\n",
    "model.add(keras.layers.Dense(200, activation='relu'))\n",
    "model.add(keras.layers.Dropout(0.4))  # 50% Drop Out\n",
    "model.add(keras.layers.Dense(len(unq_file), activation='softmax'))"
   ]
  },
  {
   "cell_type": "code",
   "execution_count": 20,
   "metadata": {},
   "outputs": [
    {
     "name": "stdout",
     "output_type": "stream",
     "text": [
      "Model: \"sequential\"\n",
      "_________________________________________________________________\n",
      " Layer (type)                Output Shape              Param #   \n",
      "=================================================================\n",
      " conv2d (Conv2D)             (None, 400, 600, 32)      896       \n",
      "                                                                 \n",
      " max_pooling2d (MaxPooling2D  (None, 200, 300, 32)     0         \n",
      " )                                                               \n",
      "                                                                 \n",
      " conv2d_1 (Conv2D)           (None, 200, 300, 32)      9248      \n",
      "                                                                 \n",
      " max_pooling2d_1 (MaxPooling  (None, 100, 150, 32)     0         \n",
      " 2D)                                                             \n",
      "                                                                 \n",
      " conv2d_2 (Conv2D)           (None, 100, 150, 64)      18496     \n",
      "                                                                 \n",
      " max_pooling2d_2 (MaxPooling  (None, 50, 75, 64)       0         \n",
      " 2D)                                                             \n",
      "                                                                 \n",
      " flatten (Flatten)           (None, 240000)            0         \n",
      "                                                                 \n",
      " dense (Dense)               (None, 200)               48000200  \n",
      "                                                                 \n",
      " dropout (Dropout)           (None, 200)               0         \n",
      "                                                                 \n",
      " dense_1 (Dense)             (None, 200)               40200     \n",
      "                                                                 \n",
      " dropout_1 (Dropout)         (None, 200)               0         \n",
      "                                                                 \n",
      " dense_2 (Dense)             (None, 37)                7437      \n",
      "                                                                 \n",
      "=================================================================\n",
      "Total params: 48,076,477\n",
      "Trainable params: 48,076,477\n",
      "Non-trainable params: 0\n",
      "_________________________________________________________________\n"
     ]
    }
   ],
   "source": [
    "model.summary()"
   ]
  },
  {
   "cell_type": "code",
   "execution_count": 21,
   "metadata": {},
   "outputs": [
    {
     "name": "stdout",
     "output_type": "stream",
     "text": [
      "Epoch 1/50\n"
     ]
    },
    {
     "name": "stderr",
     "output_type": "stream",
     "text": [
      "2022-08-03 11:59:08.533180: W tensorflow/core/platform/profile_utils/cpu_utils.cc:128] Failed to get CPU frequency: 0 Hz\n",
      "2022-08-03 11:59:09.009501: I tensorflow/core/grappler/optimizers/custom_graph_optimizer_registry.cc:113] Plugin optimizer for device_type GPU is enabled.\n"
     ]
    },
    {
     "name": "stdout",
     "output_type": "stream",
     "text": [
      "45/45 [==============================] - ETA: 0s - loss: 3.3537 - accuracy: 0.1951"
     ]
    },
    {
     "name": "stderr",
     "output_type": "stream",
     "text": [
      "2022-08-03 11:59:29.218286: I tensorflow/core/grappler/optimizers/custom_graph_optimizer_registry.cc:113] Plugin optimizer for device_type GPU is enabled.\n"
     ]
    },
    {
     "name": "stdout",
     "output_type": "stream",
     "text": [
      "45/45 [==============================] - 24s 491ms/step - loss: 3.3537 - accuracy: 0.1951 - val_loss: 1.2456 - val_accuracy: 0.8483\n",
      "Epoch 2/50\n",
      "45/45 [==============================] - 21s 452ms/step - loss: 0.8731 - accuracy: 0.7570 - val_loss: 0.0656 - val_accuracy: 1.0000\n",
      "Epoch 3/50\n",
      "45/45 [==============================] - 20s 445ms/step - loss: 0.2187 - accuracy: 0.9331 - val_loss: 0.0086 - val_accuracy: 1.0000\n",
      "Epoch 4/50\n",
      "45/45 [==============================] - 20s 450ms/step - loss: 0.0862 - accuracy: 0.9775 - val_loss: 5.3829e-04 - val_accuracy: 1.0000\n",
      "Epoch 5/50\n",
      "45/45 [==============================] - 20s 436ms/step - loss: 0.0373 - accuracy: 0.9908 - val_loss: 8.6193e-04 - val_accuracy: 1.0000\n",
      "Epoch 6/50\n",
      "45/45 [==============================] - 20s 441ms/step - loss: 0.0420 - accuracy: 0.9894 - val_loss: 4.0714e-04 - val_accuracy: 1.0000\n",
      "Epoch 7/50\n",
      "45/45 [==============================] - 20s 445ms/step - loss: 0.0352 - accuracy: 0.9901 - val_loss: 6.5705e-04 - val_accuracy: 1.0000\n",
      "Epoch 8/50\n",
      "45/45 [==============================] - 20s 450ms/step - loss: 0.0582 - accuracy: 0.9845 - val_loss: 4.4326e-04 - val_accuracy: 1.0000\n",
      "Epoch 9/50\n",
      "45/45 [==============================] - 20s 446ms/step - loss: 0.0190 - accuracy: 0.9930 - val_loss: 2.1001e-04 - val_accuracy: 1.0000\n",
      "Epoch 10/50\n",
      "45/45 [==============================] - 20s 449ms/step - loss: 0.0051 - accuracy: 0.9993 - val_loss: 2.2993e-05 - val_accuracy: 1.0000\n",
      "Epoch 11/50\n",
      "45/45 [==============================] - 20s 455ms/step - loss: 0.0173 - accuracy: 0.9944 - val_loss: 7.1199e-05 - val_accuracy: 1.0000\n",
      "Epoch 12/50\n",
      "45/45 [==============================] - 20s 439ms/step - loss: 0.0129 - accuracy: 0.9951 - val_loss: 1.9283e-04 - val_accuracy: 1.0000\n",
      "Epoch 13/50\n",
      "45/45 [==============================] - 20s 444ms/step - loss: 0.1372 - accuracy: 0.9718 - val_loss: 0.0665 - val_accuracy: 0.9719\n",
      "Epoch 14/50\n",
      "45/45 [==============================] - 20s 440ms/step - loss: 0.1066 - accuracy: 0.9754 - val_loss: 4.1100e-04 - val_accuracy: 1.0000\n",
      "Epoch 15/50\n",
      "45/45 [==============================] - 20s 439ms/step - loss: 0.0218 - accuracy: 0.9944 - val_loss: 0.0040 - val_accuracy: 1.0000\n"
     ]
    }
   ],
   "source": [
    "# 모델 학습하기\n",
    "model.compile(\n",
    "    optimizer = 'adam',\n",
    "    loss = 'sparse_categorical_crossentropy',\n",
    "    metrics ='accuracy'\n",
    ")\n",
    "\n",
    "checkpoint_cb = keras.callbacks.ModelCheckpoint(\"../Data/Artist/model/figure_46_model.h5\")\n",
    "early_stopping_cb = keras.callbacks.EarlyStopping(patience=5, restore_best_weights=True)\n",
    "\n",
    "history = model.fit(\n",
    "    trainData, \n",
    "    trainTarget, \n",
    "    epochs=50, \n",
    "    validation_data=[valData, valTarget],\n",
    "    callbacks=[checkpoint_cb, early_stopping_cb]\n",
    ")"
   ]
  },
  {
   "cell_type": "code",
   "execution_count": 22,
   "metadata": {},
   "outputs": [
    {
     "name": "stdout",
     "output_type": "stream",
     "text": [
      "14/14 [==============================] - 4s 205ms/step - loss: 8.6483e-05 - accuracy: 1.0000\n"
     ]
    },
    {
     "data": {
      "text/plain": [
       "[8.648283255752176e-05, 1.0]"
      ]
     },
     "execution_count": 22,
     "metadata": {},
     "output_type": "execute_result"
    }
   ],
   "source": [
    "model.evaluate(testData, testTarget)"
   ]
  },
  {
   "cell_type": "markdown",
   "metadata": {},
   "source": [
    "---\n",
    "# 학습한 그림 정보 "
   ]
  },
  {
   "cell_type": "code",
   "execution_count": 23,
   "metadata": {},
   "outputs": [
    {
     "data": {
      "text/plain": [
       "['100460.jpg', '100826.jpg', '14702.jpg', '1772.jpg', '18034.jpg']"
      ]
     },
     "execution_count": 23,
     "metadata": {},
     "output_type": "execute_result"
    }
   ],
   "source": [
    "unq_file[:5]"
   ]
  },
  {
   "cell_type": "code",
   "execution_count": 24,
   "metadata": {},
   "outputs": [],
   "source": [
    "figure_idx = []\n",
    "for file in unq_file:\n",
    "    id = [idx for idx in art.index if art.iloc[idx]['new_filename'] == file]\n",
    "    figure_idx.append(id)"
   ]
  },
  {
   "cell_type": "code",
   "execution_count": 25,
   "metadata": {},
   "outputs": [
    {
     "data": {
      "text/plain": [
       "[11, 28, 37, 12, 29]"
      ]
     },
     "execution_count": 25,
     "metadata": {},
     "output_type": "execute_result"
    }
   ],
   "source": [
    "figure_idx = np.array(figure_idx).flatten().tolist()\n",
    "figure_idx[:5]"
   ]
  },
  {
   "cell_type": "code",
   "execution_count": 26,
   "metadata": {},
   "outputs": [],
   "source": [
    "figureData = art.iloc[figure_idx]\n",
    "figureData.reset_index(drop=True, inplace=True)\n",
    "figureData.head()\n",
    "figureData.to_csv('../Data/Artist/model/figure_46_modelData.csv', index=False)"
   ]
  },
  {
   "cell_type": "code",
   "execution_count": 27,
   "metadata": {},
   "outputs": [
    {
     "data": {
      "image/png": "[encoded data removed]",
      "text/plain": [
       "<Figure size 432x288 with 1 Axes>"
      ]
     },
     "metadata": {
      "needs_background": "light"
     },
     "output_type": "display_data"
    }
   ],
   "source": [
    "# 시각화 해보기\n",
    "plt.plot(history.history['loss'])\n",
    "plt.plot(history.history['val_loss'])\n",
    "plt.xlabel('epoch')\n",
    "plt.ylabel('loss')\n",
    "plt.legend(['train', 'val'])\n",
    "plt.show()"
   ]
  },
  {
   "cell_type": "code",
   "execution_count": 28,
   "metadata": {},
   "outputs": [
    {
     "name": "stdout",
     "output_type": "stream",
     "text": [
      "14/14 [==============================] - 3s 207ms/step - loss: 8.6483e-05 - accuracy: 1.0000\n"
     ]
    },
    {
     "data": {
      "text/plain": [
       "[8.648283255752176e-05, 1.0]"
      ]
     },
     "execution_count": 28,
     "metadata": {},
     "output_type": "execute_result"
    }
   ],
   "source": [
    "model.evaluate(testData, testTarget)"
   ]
  },
  {
   "cell_type": "code",
   "execution_count": null,
   "metadata": {},
   "outputs": [],
   "source": []
  }
 ],
 "metadata": {
  "kernelspec": {
   "display_name": "Python 3.9.13 ('tensorflow')",
   "language": "python",
   "name": "python3"
  },
  "language_info": {
   "codemirror_mode": {
    "name": "ipython",
    "version": 3
   },
   "file_extension": ".py",
   "mimetype": "text/x-python",
   "name": "python",
   "nbconvert_exporter": "python",
   "pygments_lexer": "ipython3",
   "version": "3.9.13"
  },
  "orig_nbformat": 4,
  "vscode": {
   "interpreter": {
    "hash": "62ad4d91cf02108988eea398b22e5055b749dc5d8f13835b61842a3d4279d5d7"
   }
  }
 },
 "nbformat": 4,
 "nbformat_minor": 2
}
