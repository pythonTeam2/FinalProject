{
 "cells": [
  {
   "cell_type": "code",
   "execution_count": 17,
   "metadata": {},
   "outputs": [],
   "source": [
    "import cv2\n",
    "import pandas as pd\n",
    "import numpy as np\n",
    "from PIL import Image\n",
    "import shutil\n",
    "import glob"
   ]
  },
  {
   "cell_type": "code",
   "execution_count": 4,
   "metadata": {},
   "outputs": [
    {
     "data": {
      "text/html": [
       "<div>\n",
       "<style scoped>\n",
       "    .dataframe tbody tr th:only-of-type {\n",
       "        vertical-align: middle;\n",
       "    }\n",
       "\n",
       "    .dataframe tbody tr th {\n",
       "        vertical-align: top;\n",
       "    }\n",
       "\n",
       "    .dataframe thead th {\n",
       "        text-align: right;\n",
       "    }\n",
       "</style>\n",
       "<table border=\"1\" class=\"dataframe\">\n",
       "  <thead>\n",
       "    <tr style=\"text-align: right;\">\n",
       "      <th></th>\n",
       "      <th>Unnamed: 0</th>\n",
       "      <th>artist</th>\n",
       "      <th>date</th>\n",
       "      <th>genre</th>\n",
       "      <th>pixelsx</th>\n",
       "      <th>pixelsy</th>\n",
       "      <th>size_bytes</th>\n",
       "      <th>source</th>\n",
       "      <th>style</th>\n",
       "      <th>title</th>\n",
       "      <th>artist_group</th>\n",
       "      <th>in_train</th>\n",
       "      <th>new_filename</th>\n",
       "    </tr>\n",
       "  </thead>\n",
       "  <tbody>\n",
       "    <tr>\n",
       "      <th>0</th>\n",
       "      <td>0</td>\n",
       "      <td>Barnett Newman</td>\n",
       "      <td>1955.0</td>\n",
       "      <td>abstract</td>\n",
       "      <td>15530.0</td>\n",
       "      <td>6911.0</td>\n",
       "      <td>9201912.0</td>\n",
       "      <td>wikiart</td>\n",
       "      <td>Color Field Painting</td>\n",
       "      <td>Uriel</td>\n",
       "      <td>train_only</td>\n",
       "      <td>True</td>\n",
       "      <td>102257.jpg</td>\n",
       "    </tr>\n",
       "    <tr>\n",
       "      <th>1</th>\n",
       "      <td>1</td>\n",
       "      <td>Barnett Newman</td>\n",
       "      <td>1950.0</td>\n",
       "      <td>abstract</td>\n",
       "      <td>14559.0</td>\n",
       "      <td>6866.0</td>\n",
       "      <td>8867532.0</td>\n",
       "      <td>wikiart</td>\n",
       "      <td>Color Field Painting</td>\n",
       "      <td>Vir Heroicus Sublimis</td>\n",
       "      <td>train_only</td>\n",
       "      <td>True</td>\n",
       "      <td>75232.jpg</td>\n",
       "    </tr>\n",
       "    <tr>\n",
       "      <th>2</th>\n",
       "      <td>2</td>\n",
       "      <td>kiri nichol</td>\n",
       "      <td>2013.0</td>\n",
       "      <td>NaN</td>\n",
       "      <td>9003.0</td>\n",
       "      <td>9004.0</td>\n",
       "      <td>1756681.0</td>\n",
       "      <td>NaN</td>\n",
       "      <td>Neoplasticism</td>\n",
       "      <td>NaN</td>\n",
       "      <td>test_only</td>\n",
       "      <td>False</td>\n",
       "      <td>32145.jpg</td>\n",
       "    </tr>\n",
       "    <tr>\n",
       "      <th>3</th>\n",
       "      <td>3</td>\n",
       "      <td>kiri nichol</td>\n",
       "      <td>2013.0</td>\n",
       "      <td>NaN</td>\n",
       "      <td>9003.0</td>\n",
       "      <td>9004.0</td>\n",
       "      <td>1942046.0</td>\n",
       "      <td>NaN</td>\n",
       "      <td>Neoplasticism</td>\n",
       "      <td>NaN</td>\n",
       "      <td>test_only</td>\n",
       "      <td>False</td>\n",
       "      <td>20304.jpg</td>\n",
       "    </tr>\n",
       "    <tr>\n",
       "      <th>4</th>\n",
       "      <td>4</td>\n",
       "      <td>kiri nichol</td>\n",
       "      <td>2013.0</td>\n",
       "      <td>NaN</td>\n",
       "      <td>9003.0</td>\n",
       "      <td>9004.0</td>\n",
       "      <td>1526212.0</td>\n",
       "      <td>NaN</td>\n",
       "      <td>Neoplasticism</td>\n",
       "      <td>NaN</td>\n",
       "      <td>test_only</td>\n",
       "      <td>False</td>\n",
       "      <td>836.jpg</td>\n",
       "    </tr>\n",
       "  </tbody>\n",
       "</table>\n",
       "</div>"
      ],
      "text/plain": [
       "   Unnamed: 0          artist    date     genre  pixelsx  pixelsy  size_bytes  \\\n",
       "0           0  Barnett Newman  1955.0  abstract  15530.0   6911.0   9201912.0   \n",
       "1           1  Barnett Newman  1950.0  abstract  14559.0   6866.0   8867532.0   \n",
       "2           2     kiri nichol  2013.0       NaN   9003.0   9004.0   1756681.0   \n",
       "3           3     kiri nichol  2013.0       NaN   9003.0   9004.0   1942046.0   \n",
       "4           4     kiri nichol  2013.0       NaN   9003.0   9004.0   1526212.0   \n",
       "\n",
       "    source                 style                  title artist_group  \\\n",
       "0  wikiart  Color Field Painting                  Uriel   train_only   \n",
       "1  wikiart  Color Field Painting  Vir Heroicus Sublimis   train_only   \n",
       "2      NaN         Neoplasticism                    NaN    test_only   \n",
       "3      NaN         Neoplasticism                    NaN    test_only   \n",
       "4      NaN         Neoplasticism                    NaN    test_only   \n",
       "\n",
       "   in_train new_filename  \n",
       "0      True   102257.jpg  \n",
       "1      True    75232.jpg  \n",
       "2     False    32145.jpg  \n",
       "3     False    20304.jpg  \n",
       "4     False      836.jpg  "
      ]
     },
     "execution_count": 4,
     "metadata": {},
     "output_type": "execute_result"
    }
   ],
   "source": [
    "art = pd.read_csv('../Data/Artist/csv/all_select.csv')\n",
    "art.head()"
   ]
  },
  {
   "cell_type": "code",
   "execution_count": 5,
   "metadata": {},
   "outputs": [
    {
     "data": {
      "text/plain": [
       "portrait              16843\n",
       "landscape             15005\n",
       "genre painting        14258\n",
       "abstract               9498\n",
       "religious painting     7425\n",
       "cityscape              5347\n",
       "sketch and study       3642\n",
       "illustration           3201\n",
       "still life             3132\n",
       "symbolic painting      2545\n",
       "Name: genre, dtype: int64"
      ]
     },
     "execution_count": 5,
     "metadata": {},
     "output_type": "execute_result"
    }
   ],
   "source": [
    "art['genre'].value_counts().head(10)"
   ]
  },
  {
   "cell_type": "markdown",
   "metadata": {},
   "source": [
    "---\n",
    "## 정물화, 초상화, 풍경화 각각 500개 이미지 선정"
   ]
  },
  {
   "cell_type": "code",
   "execution_count": 14,
   "metadata": {},
   "outputs": [],
   "source": [
    "# 초상화\n",
    "portrait_idx = np.random.randint(0, 16843, size=500)\n",
    "art_portrait = art.iloc[[id for id in art.index if art.iloc[id]['genre'] == 'portrait']].reset_index(drop=True)\n",
    "\n",
    "\n",
    "imgOrg_path = '../Data/Artist/original/org_select/'\n",
    "dst_portrait = '../Data/Artist/genre/portrait/'\n",
    "\n",
    "for id in portrait_idx:\n",
    "    shutil.copy(imgOrg_path + art_portrait.iloc[id]['new_filename'], dst_portrait + art_portrait.iloc[id]['new_filename'])"
   ]
  },
  {
   "cell_type": "code",
   "execution_count": 15,
   "metadata": {},
   "outputs": [],
   "source": [
    "# 풍경화\n",
    "landscape_idx = np.random.randint(0, 15005, size=500)\n",
    "art_landscape = art.iloc[[id for id in art.index if art.iloc[id]['genre'] == 'landscape']].reset_index(drop=True)\n",
    "\n",
    "imgOrg_path = '../Data/Artist/original/org_select/'\n",
    "dst_landscape = '../Data/Artist/genre/landscape/'\n",
    "\n",
    "for id in landscape_idx:\n",
    "    shutil.copy(imgOrg_path + art_landscape.iloc[id]['new_filename'], dst_landscape + art_portrait.iloc[id]['new_filename'])\n",
    "   "
   ]
  },
  {
   "cell_type": "code",
   "execution_count": 16,
   "metadata": {},
   "outputs": [],
   "source": [
    "# 초상화\n",
    "stillLife_idx = np.random.randint(0, 3132, size=500)\n",
    "art_stillLife = art.iloc[[id for id in art.index if art.iloc[id]['genre'] == 'still life']].reset_index(drop=True)\n",
    "\n",
    "\n",
    "imgOrg_path = '../Data/Artist/original/org_select/'\n",
    "dst_stillLife = '../Data/Artist/genre/still life/'\n",
    "\n",
    "for id in stillLife_idx:\n",
    "    shutil.copy(imgOrg_path + art_stillLife.iloc[id]['new_filename'], dst_stillLife + art_portrait.iloc[id]['new_filename'])\n",
    "   "
   ]
  },
  {
   "cell_type": "markdown",
   "metadata": {},
   "source": [
    "---\n",
    "# 장르 데이터 리사이즈"
   ]
  },
  {
   "cell_type": "code",
   "execution_count": 18,
   "metadata": {},
   "outputs": [],
   "source": [
    "landscape = '../Data/Artist/genre/landscape/*.jpg'\n",
    "landscape_files = [file for file in glob.glob(landscape)]\n",
    "\n",
    "portrait = '../Data/Artist/genre/portrait/*.jpg'\n",
    "portrait_files = [file for file in glob.glob(portrait)]\n",
    "\n",
    "stillLife = '../Data/Artist/genre/still life/*.jpg'\n",
    "stillLife_files = [file for file in glob.glob(stillLife)]"
   ]
  },
  {
   "cell_type": "code",
   "execution_count": 19,
   "metadata": {},
   "outputs": [],
   "source": [
    "def imageResize(src, max_height):\n",
    "    \n",
    "    max_width = np.uint(max_height * 1.5)\n",
    "\n",
    "    height, width = src.shape[0:2]\n",
    "    ratio = height / max_height\n",
    "    \n",
    "    # 입력 이미지의 높이가 설정한 이미지의 최대 높이보다 크면 리사이즈 수행\n",
    "    if height > max_height :\n",
    "        resize_height = max_height\n",
    "        resize_width = np.uint(width // ratio)\n",
    "        img = cv2.resize(src, (resize_width, resize_height), cv2.INTER_AREA)\n",
    "        dy = 0\n",
    "    \n",
    "    # 입력 이미지의 높이가 설정한 이미지의 최대 높이보다 작으면 리사이즈 수행하지 않음\n",
    "    else : \n",
    "        resize_height = height\n",
    "        resize_width = width\n",
    "        dy = (max_height - resize_height) // 2\n",
    "        img = src\n",
    "\n",
    "    dx = (max_width - resize_width) // 2\n",
    "    mtrx = np.float32([[1,0,dx],[0,1,dy]])\n",
    "\n",
    "\n",
    "    # 입력 이미지를 규격 프레임의 중심에 넣는다\n",
    "    return cv2.warpAffine(img, mtrx, (max_width, max_height))"
   ]
  },
  {
   "cell_type": "markdown",
   "metadata": {},
   "source": [
    "## landscape 리사이즈"
   ]
  },
  {
   "cell_type": "code",
   "execution_count": 20,
   "metadata": {},
   "outputs": [],
   "source": [
    "land_path = '../Data/Artist/genre/resized/landscape/'\n",
    "\n",
    "for file in landscape_files:\n",
    "    img = cv2.imread(file, cv2.IMREAD_COLOR)\n",
    "    filename = file.replace('../Data/Artist/genre/landscape/', '')\n",
    "    height, width = img.shape[:2]\n",
    "    if height * 1.5 > width :\n",
    "        img = imageResize(img, 400)\n",
    "        cv2.imwrite(land_path + filename, img)"
   ]
  },
  {
   "cell_type": "markdown",
   "metadata": {},
   "source": [
    "## portrait 리사이즈"
   ]
  },
  {
   "cell_type": "code",
   "execution_count": null,
   "metadata": {},
   "outputs": [],
   "source": [
    "port_path = '../Data/Artist/genre/resized/portrait/'\n",
    "\n",
    "for file in portrait_files:\n",
    "    img = cv2.imread(file, cv2.IMREAD_COLOR)\n",
    "    filename = file.replace('../Data/Artist/genre/portrait/', '')\n",
    "    height, width = img.shape[:2]\n",
    "    if height * 1.5 > width :\n",
    "        img = imageResize(img, 400)\n",
    "        cv2.imwrite(port_path + filename, img)"
   ]
  },
  {
   "cell_type": "markdown",
   "metadata": {},
   "source": [
    "## still life 리사이즈"
   ]
  },
  {
   "cell_type": "code",
   "execution_count": null,
   "metadata": {},
   "outputs": [],
   "source": [
    "stillLife_path = '../Data/Artist/genre/resized/still life/'\n",
    "\n",
    "for file in stillLife_files:\n",
    "    img = cv2.imread(file, cv2.IMREAD_COLOR)\n",
    "    filename = file.replace('../Data/Artist/genre/still life/', '')\n",
    "    height, width = img.shape[:2]\n",
    "    if height * 1.5 > width :\n",
    "        img = imageResize(img, 400)\n",
    "        cv2.imwrite(stillLife_path + filename, img)"
   ]
  }
 ],
 "metadata": {
  "kernelspec": {
   "display_name": "Python 3.9.13 ('tensorflow')",
   "language": "python",
   "name": "python3"
  },
  "language_info": {
   "codemirror_mode": {
    "name": "ipython",
    "version": 3
   },
   "file_extension": ".py",
   "mimetype": "text/x-python",
   "name": "python",
   "nbconvert_exporter": "python",
   "pygments_lexer": "ipython3",
   "version": "3.9.13"
  },
  "orig_nbformat": 4,
  "vscode": {
   "interpreter": {
    "hash": "62ad4d91cf02108988eea398b22e5055b749dc5d8f13835b61842a3d4279d5d7"
   }
  }
 },
 "nbformat": 4,
 "nbformat_minor": 2
}
