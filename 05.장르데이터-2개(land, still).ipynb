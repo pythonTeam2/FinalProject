{
 "cells": [
  {
   "cell_type": "code",
   "execution_count": 24,
   "metadata": {},
   "outputs": [],
   "source": [
    "import cv2\n",
    "import pandas as pd\n",
    "import numpy as np\n",
    "from tensorflow import keras\n",
    "import glob\n",
    "from PIL import Image\n",
    "import matplotlib.pyplot as plt\n",
    "from sklearn.model_selection import train_test_split"
   ]
  },
  {
   "cell_type": "markdown",
   "metadata": {},
   "source": [
    "\n",
    "# 장르 데이터 읽기"
   ]
  },
  {
   "cell_type": "markdown",
   "metadata": {},
   "source": [
    "---"
   ]
  },
  {
   "cell_type": "code",
   "execution_count": 25,
   "metadata": {},
   "outputs": [
    {
     "data": {
      "text/plain": [
       "378"
      ]
     },
     "execution_count": 25,
     "metadata": {},
     "output_type": "execute_result"
    }
   ],
   "source": [
    "land_path = '../Data/Artist/genre/resized/landscape/*.jpg'\n",
    "land_file = [file for file in glob.glob(land_path)]\n",
    "landCount = len(land_file)\n",
    "landCount"
   ]
  },
  {
   "cell_type": "code",
   "execution_count": 26,
   "metadata": {},
   "outputs": [
    {
     "data": {
      "text/plain": [
       "372"
      ]
     },
     "execution_count": 26,
     "metadata": {},
     "output_type": "execute_result"
    }
   ],
   "source": [
    "still_path = '../Data/Artist/genre/resized/still life/*.jpg'\n",
    "still_file = [file for file in glob.glob(still_path)]\n",
    "stillCount = len(still_file)\n",
    "stillCount"
   ]
  },
  {
   "cell_type": "code",
   "execution_count": 27,
   "metadata": {},
   "outputs": [],
   "source": [
    "height = 400\n",
    "width = 600\n",
    "colors = 3\n",
    "numberOfimage = landCount + stillCount"
   ]
  },
  {
   "cell_type": "code",
   "execution_count": 28,
   "metadata": {},
   "outputs": [],
   "source": [
    "trainData = np.zeros(numberOfimage * height * width * colors).reshape(-1, height, width, colors)"
   ]
  },
  {
   "cell_type": "code",
   "execution_count": 29,
   "metadata": {},
   "outputs": [
    {
     "data": {
      "text/plain": [
       "array([0., 0., 0., 0., 0., 0., 0., 0., 0., 0., 0., 0., 0., 0., 0., 0., 0.,\n",
       "       0., 0., 0., 0., 0., 0., 0., 0., 0., 0., 0., 0., 0., 0., 0., 0., 0.,\n",
       "       0., 0., 0., 0., 0., 0., 0., 0., 0., 0., 0., 0., 0., 0., 0., 0., 0.,\n",
       "       0., 0., 0., 0., 0., 0., 0., 0., 0., 0., 0., 0., 0., 0., 0., 0., 0.,\n",
       "       0., 0., 0., 0., 0., 0., 0., 0., 0., 0., 0., 0., 0., 0., 0., 0., 0.,\n",
       "       0., 0., 0., 0., 0., 0., 0., 0., 0., 0., 0., 0., 0., 0., 0., 0., 0.,\n",
       "       0., 0., 0., 0., 0., 0., 0., 0., 0., 0., 0., 0., 0., 0., 0., 0., 0.,\n",
       "       0., 0., 0., 0., 0., 0., 0., 0., 0., 0., 0., 0., 0., 0., 0., 0., 0.,\n",
       "       0., 0., 0., 0., 0., 0., 0., 0., 0., 0., 0., 0., 0., 0., 0., 0., 0.,\n",
       "       0., 0., 0., 0., 0., 0., 0., 0., 0., 0., 0., 0., 0., 0., 0., 0., 0.,\n",
       "       0., 0., 0., 0., 0., 0., 0., 0., 0., 0., 0., 0., 0., 0., 0., 0., 0.,\n",
       "       0., 0., 0., 0., 0., 0., 0., 0., 0., 0., 0., 0., 0., 0., 0., 0., 0.,\n",
       "       0., 0., 0., 0., 0., 0., 0., 0., 0., 0., 0., 0., 0., 0., 0., 0., 0.,\n",
       "       0., 0., 0., 0., 0., 0., 0., 0., 0., 0., 0., 0., 0., 0., 0., 0., 0.,\n",
       "       0., 0., 0., 0., 0., 0., 0., 0., 0., 0., 0., 0., 0., 0., 0., 0., 0.,\n",
       "       0., 0., 0., 0., 0., 0., 0., 0., 0., 0., 0., 0., 0., 0., 0., 0., 0.,\n",
       "       0., 0., 0., 0., 0., 0., 0., 0., 0., 0., 0., 0., 0., 0., 0., 0., 0.,\n",
       "       0., 0., 0., 0., 0., 0., 0., 0., 0., 0., 0., 0., 0., 0., 0., 0., 0.,\n",
       "       0., 0., 0., 0., 0., 0., 0., 0., 0., 0., 0., 0., 0., 0., 0., 0., 0.,\n",
       "       0., 0., 0., 0., 0., 0., 0., 0., 0., 0., 0., 0., 0., 0., 0., 0., 0.,\n",
       "       0., 0., 0., 0., 0., 0., 0., 0., 0., 0., 0., 0., 0., 0., 0., 0., 0.,\n",
       "       0., 0., 0., 0., 0., 0., 0., 0., 0., 0., 0., 0., 0., 0., 0., 0., 0.,\n",
       "       0., 0., 0., 0., 1., 1., 1., 1., 1., 1., 1., 1., 1., 1., 1., 1., 1.,\n",
       "       1., 1., 1., 1., 1., 1., 1., 1., 1., 1., 1., 1., 1., 1., 1., 1., 1.,\n",
       "       1., 1., 1., 1., 1., 1., 1., 1., 1., 1., 1., 1., 1., 1., 1., 1., 1.,\n",
       "       1., 1., 1., 1., 1., 1., 1., 1., 1., 1., 1., 1., 1., 1., 1., 1., 1.,\n",
       "       1., 1., 1., 1., 1., 1., 1., 1., 1., 1., 1., 1., 1., 1., 1., 1., 1.,\n",
       "       1., 1., 1., 1., 1., 1., 1., 1., 1., 1., 1., 1., 1., 1., 1., 1., 1.,\n",
       "       1., 1., 1., 1., 1., 1., 1., 1., 1., 1., 1., 1., 1., 1., 1., 1., 1.,\n",
       "       1., 1., 1., 1., 1., 1., 1., 1., 1., 1., 1., 1., 1., 1., 1., 1., 1.,\n",
       "       1., 1., 1., 1., 1., 1., 1., 1., 1., 1., 1., 1., 1., 1., 1., 1., 1.,\n",
       "       1., 1., 1., 1., 1., 1., 1., 1., 1., 1., 1., 1., 1., 1., 1., 1., 1.,\n",
       "       1., 1., 1., 1., 1., 1., 1., 1., 1., 1., 1., 1., 1., 1., 1., 1., 1.,\n",
       "       1., 1., 1., 1., 1., 1., 1., 1., 1., 1., 1., 1., 1., 1., 1., 1., 1.,\n",
       "       1., 1., 1., 1., 1., 1., 1., 1., 1., 1., 1., 1., 1., 1., 1., 1., 1.,\n",
       "       1., 1., 1., 1., 1., 1., 1., 1., 1., 1., 1., 1., 1., 1., 1., 1., 1.,\n",
       "       1., 1., 1., 1., 1., 1., 1., 1., 1., 1., 1., 1., 1., 1., 1., 1., 1.,\n",
       "       1., 1., 1., 1., 1., 1., 1., 1., 1., 1., 1., 1., 1., 1., 1., 1., 1.,\n",
       "       1., 1., 1., 1., 1., 1., 1., 1., 1., 1., 1., 1., 1., 1., 1., 1., 1.,\n",
       "       1., 1., 1., 1., 1., 1., 1., 1., 1., 1., 1., 1., 1., 1., 1., 1., 1.,\n",
       "       1., 1., 1., 1., 1., 1., 1., 1., 1., 1., 1., 1., 1., 1., 1., 1., 1.,\n",
       "       1., 1., 1., 1., 1., 1., 1., 1., 1., 1., 1., 1., 1., 1., 1., 1., 1.,\n",
       "       1., 1., 1., 1., 1., 1., 1., 1., 1., 1., 1., 1., 1., 1., 1., 1., 1.,\n",
       "       1., 1., 1., 1., 1., 1., 1., 1., 1., 1., 1., 1., 1., 1., 1., 1., 1.,\n",
       "       1., 1.])"
      ]
     },
     "execution_count": 29,
     "metadata": {},
     "output_type": "execute_result"
    }
   ],
   "source": [
    "targetData = np.concatenate([np.zeros(landCount), np.ones(stillCount)])  # land : 0, still : 1\n",
    "targetData"
   ]
  },
  {
   "cell_type": "code",
   "execution_count": 30,
   "metadata": {},
   "outputs": [],
   "source": [
    "i = 0\n",
    "for id in range(landCount):\n",
    "    img = np.array(Image.open(land_file[id]), np.int32)\n",
    "    trainData[i] = img\n",
    "    i += 1"
   ]
  },
  {
   "cell_type": "code",
   "execution_count": 31,
   "metadata": {},
   "outputs": [],
   "source": [
    "for id in range(stillCount):\n",
    "    img = np.array(Image.open(still_file[id]), np.int32)\n",
    "    trainData[i] = img\n",
    "    i += 1\n"
   ]
  },
  {
   "cell_type": "markdown",
   "metadata": {},
   "source": [
    "---\n",
    "# 학습, 검증, 테스트 데이터 분리"
   ]
  },
  {
   "cell_type": "code",
   "execution_count": 32,
   "metadata": {},
   "outputs": [],
   "source": [
    "train = trainData / 255.0"
   ]
  },
  {
   "cell_type": "code",
   "execution_count": 33,
   "metadata": {},
   "outputs": [],
   "source": [
    "trainData, testData, trainTarget, testTarget = train_test_split(\n",
    "    train, targetData, test_size=0.2, random_state=42\n",
    ")\n",
    "\n",
    "trainData, valData, trainTarget, valTarget = train_test_split(\n",
    "    trainData, trainTarget, test_size=0.2, random_state=42\n",
    ")"
   ]
  },
  {
   "cell_type": "code",
   "execution_count": 34,
   "metadata": {},
   "outputs": [
    {
     "name": "stdout",
     "output_type": "stream",
     "text": [
      "(480, 400, 600, 3)\n",
      "(480,)\n",
      "(120, 400, 600, 3)\n",
      "(120,)\n",
      "(150, 400, 600, 3)\n",
      "(150,)\n"
     ]
    }
   ],
   "source": [
    "print(trainData.shape)\n",
    "print(trainTarget.shape)\n",
    "print(valData.shape)\n",
    "print(valTarget.shape)\n",
    "print(testData.shape)\n",
    "print(testTarget.shape)"
   ]
  },
  {
   "cell_type": "markdown",
   "metadata": {},
   "source": [
    "---\n",
    "# 딥러닝 모델 생성"
   ]
  },
  {
   "cell_type": "code",
   "execution_count": 35,
   "metadata": {},
   "outputs": [],
   "source": [
    "model = keras.Sequential()"
   ]
  },
  {
   "cell_type": "code",
   "execution_count": 36,
   "metadata": {},
   "outputs": [],
   "source": [
    "model.add(\n",
    "    keras.layers.Conv2D(\n",
    "        64, \n",
    "        kernel_size = 3, \n",
    "        activation = 'relu',\n",
    "        padding = 'same',\n",
    "        input_shape = (height, width, colors) \n",
    "    )\n",
    ")"
   ]
  },
  {
   "cell_type": "code",
   "execution_count": 37,
   "metadata": {},
   "outputs": [],
   "source": [
    "model.add(keras.layers.MaxPooling2D(2))"
   ]
  },
  {
   "cell_type": "code",
   "execution_count": 38,
   "metadata": {},
   "outputs": [],
   "source": [
    "model.add(\n",
    "    keras.layers.Conv2D(\n",
    "        64, \n",
    "        kernel_size = 3, \n",
    "        activation = 'relu',\n",
    "        padding = 'same',\n",
    "    )\n",
    ")"
   ]
  },
  {
   "cell_type": "code",
   "execution_count": 39,
   "metadata": {},
   "outputs": [],
   "source": [
    "model.add(keras.layers.MaxPooling2D(2))"
   ]
  },
  {
   "cell_type": "code",
   "execution_count": 40,
   "metadata": {},
   "outputs": [],
   "source": [
    "model.add(\n",
    "    keras.layers.Conv2D(\n",
    "        128, \n",
    "        kernel_size = 3, \n",
    "        activation = 'relu',\n",
    "        padding = 'same',\n",
    "    )\n",
    ")"
   ]
  },
  {
   "cell_type": "code",
   "execution_count": 41,
   "metadata": {},
   "outputs": [],
   "source": [
    "model.add(keras.layers.MaxPooling2D(2))"
   ]
  },
  {
   "cell_type": "code",
   "execution_count": 42,
   "metadata": {},
   "outputs": [],
   "source": [
    "model.add(keras.layers.Flatten())\n",
    "model.add(keras.layers.Dense(200, activation='relu'))\n",
    "model.add(keras.layers.Dropout(0.7))  # 50% Drop Out\n",
    "model.add(keras.layers.Dense(200, activation='relu'))\n",
    "model.add(keras.layers.Dropout(0.7))  # 50% Drop Out\n",
    "model.add(keras.layers.Dense(2, activation='sigmoid'))"
   ]
  },
  {
   "cell_type": "code",
   "execution_count": 43,
   "metadata": {},
   "outputs": [
    {
     "name": "stdout",
     "output_type": "stream",
     "text": [
      "Model: \"sequential_1\"\n",
      "_________________________________________________________________\n",
      " Layer (type)                Output Shape              Param #   \n",
      "=================================================================\n",
      " conv2d_3 (Conv2D)           (None, 400, 600, 64)      1792      \n",
      "                                                                 \n",
      " max_pooling2d_3 (MaxPooling  (None, 200, 300, 64)     0         \n",
      " 2D)                                                             \n",
      "                                                                 \n",
      " conv2d_4 (Conv2D)           (None, 200, 300, 64)      36928     \n",
      "                                                                 \n",
      " max_pooling2d_4 (MaxPooling  (None, 100, 150, 64)     0         \n",
      " 2D)                                                             \n",
      "                                                                 \n",
      " conv2d_5 (Conv2D)           (None, 100, 150, 128)     73856     \n",
      "                                                                 \n",
      " max_pooling2d_5 (MaxPooling  (None, 50, 75, 128)      0         \n",
      " 2D)                                                             \n",
      "                                                                 \n",
      " flatten_1 (Flatten)         (None, 480000)            0         \n",
      "                                                                 \n",
      " dense_3 (Dense)             (None, 200)               96000200  \n",
      "                                                                 \n",
      " dropout_2 (Dropout)         (None, 200)               0         \n",
      "                                                                 \n",
      " dense_4 (Dense)             (None, 200)               40200     \n",
      "                                                                 \n",
      " dropout_3 (Dropout)         (None, 200)               0         \n",
      "                                                                 \n",
      " dense_5 (Dense)             (None, 2)                 402       \n",
      "                                                                 \n",
      "=================================================================\n",
      "Total params: 96,153,378\n",
      "Trainable params: 96,153,378\n",
      "Non-trainable params: 0\n",
      "_________________________________________________________________\n"
     ]
    }
   ],
   "source": [
    "model.summary()"
   ]
  },
  {
   "cell_type": "code",
   "execution_count": 44,
   "metadata": {},
   "outputs": [
    {
     "name": "stdout",
     "output_type": "stream",
     "text": [
      "Epoch 1/50\n"
     ]
    },
    {
     "name": "stderr",
     "output_type": "stream",
     "text": [
      "2022-08-04 15:02:28.335719: I tensorflow/core/grappler/optimizers/custom_graph_optimizer_registry.cc:113] Plugin optimizer for device_type GPU is enabled.\n"
     ]
    },
    {
     "name": "stdout",
     "output_type": "stream",
     "text": [
      "15/15 [==============================] - ETA: 0s - loss: 1.7939 - accuracy: 0.5354"
     ]
    },
    {
     "name": "stderr",
     "output_type": "stream",
     "text": [
      "2022-08-04 15:02:48.255716: I tensorflow/core/grappler/optimizers/custom_graph_optimizer_registry.cc:113] Plugin optimizer for device_type GPU is enabled.\n"
     ]
    },
    {
     "name": "stdout",
     "output_type": "stream",
     "text": [
      "15/15 [==============================] - 22s 1s/step - loss: 1.7939 - accuracy: 0.5354 - val_loss: 0.6673 - val_accuracy: 0.6583\n",
      "Epoch 2/50\n",
      "15/15 [==============================] - 21s 1s/step - loss: 0.6386 - accuracy: 0.6729 - val_loss: 0.6397 - val_accuracy: 0.6000\n",
      "Epoch 3/50\n",
      "15/15 [==============================] - 21s 1s/step - loss: 0.5358 - accuracy: 0.7500 - val_loss: 0.5009 - val_accuracy: 0.7750\n",
      "Epoch 4/50\n",
      "15/15 [==============================] - 20s 1s/step - loss: 0.4420 - accuracy: 0.8042 - val_loss: 0.5778 - val_accuracy: 0.7833\n",
      "Epoch 5/50\n",
      "15/15 [==============================] - 20s 1s/step - loss: 0.4002 - accuracy: 0.8458 - val_loss: 0.5344 - val_accuracy: 0.7917\n",
      "Epoch 6/50\n",
      "15/15 [==============================] - 20s 1s/step - loss: 0.3722 - accuracy: 0.8396 - val_loss: 0.6246 - val_accuracy: 0.7750\n",
      "Epoch 7/50\n",
      "15/15 [==============================] - 20s 1s/step - loss: 0.4528 - accuracy: 0.8417 - val_loss: 0.4531 - val_accuracy: 0.7833\n",
      "Epoch 8/50\n",
      "15/15 [==============================] - 21s 1s/step - loss: 0.3924 - accuracy: 0.8542 - val_loss: 0.5037 - val_accuracy: 0.7583\n",
      "Epoch 9/50\n",
      "15/15 [==============================] - 21s 1s/step - loss: 0.3710 - accuracy: 0.8333 - val_loss: 0.4408 - val_accuracy: 0.7833\n",
      "Epoch 10/50\n",
      "15/15 [==============================] - 20s 1s/step - loss: 0.2763 - accuracy: 0.9000 - val_loss: 0.3990 - val_accuracy: 0.8417\n",
      "Epoch 11/50\n",
      "15/15 [==============================] - 21s 1s/step - loss: 0.2564 - accuracy: 0.9000 - val_loss: 0.3609 - val_accuracy: 0.8250\n",
      "Epoch 12/50\n",
      "15/15 [==============================] - 21s 1s/step - loss: 0.2072 - accuracy: 0.9188 - val_loss: 0.3573 - val_accuracy: 0.8583\n",
      "Epoch 13/50\n",
      "15/15 [==============================] - 21s 1s/step - loss: 0.1798 - accuracy: 0.9229 - val_loss: 0.3325 - val_accuracy: 0.8750\n",
      "Epoch 14/50\n",
      "15/15 [==============================] - 20s 1s/step - loss: 0.1813 - accuracy: 0.9354 - val_loss: 0.4166 - val_accuracy: 0.8167\n",
      "Epoch 15/50\n",
      "15/15 [==============================] - 20s 1s/step - loss: 0.1618 - accuracy: 0.9313 - val_loss: 0.4014 - val_accuracy: 0.8333\n",
      "Epoch 16/50\n",
      "15/15 [==============================] - 21s 1s/step - loss: 0.1307 - accuracy: 0.9583 - val_loss: 0.2774 - val_accuracy: 0.8833\n",
      "Epoch 17/50\n",
      "15/15 [==============================] - 20s 1s/step - loss: 0.0987 - accuracy: 0.9708 - val_loss: 0.4402 - val_accuracy: 0.8083\n",
      "Epoch 18/50\n",
      "15/15 [==============================] - 20s 1s/step - loss: 0.0917 - accuracy: 0.9667 - val_loss: 0.3995 - val_accuracy: 0.8500\n",
      "Epoch 19/50\n",
      "15/15 [==============================] - 20s 1s/step - loss: 0.0543 - accuracy: 0.9833 - val_loss: 0.3985 - val_accuracy: 0.8500\n",
      "Epoch 20/50\n",
      "15/15 [==============================] - 20s 1s/step - loss: 0.0445 - accuracy: 0.9813 - val_loss: 0.2954 - val_accuracy: 0.8917\n",
      "Epoch 21/50\n",
      "15/15 [==============================] - 21s 1s/step - loss: 0.0257 - accuracy: 0.9896 - val_loss: 0.4175 - val_accuracy: 0.8667\n"
     ]
    }
   ],
   "source": [
    "# 모델 학습하기\n",
    "model.compile(\n",
    "    optimizer = 'adam',\n",
    "    loss = 'sparse_categorical_crossentropy',\n",
    "    metrics ='accuracy'\n",
    ")\n",
    "\n",
    "checkpoint_cb = keras.callbacks.ModelCheckpoint(\"../Data/Artist/model/land_still_v3.h5\")\n",
    "early_stopping_cb = keras.callbacks.EarlyStopping(patience=5, restore_best_weights=True)\n",
    "\n",
    "history = model.fit(\n",
    "    trainData, \n",
    "    trainTarget, \n",
    "    epochs=50, \n",
    "    validation_data=[valData, valTarget],\n",
    "    callbacks=[checkpoint_cb, early_stopping_cb]\n",
    ")"
   ]
  },
  {
   "cell_type": "code",
   "execution_count": 45,
   "metadata": {},
   "outputs": [
    {
     "name": "stdout",
     "output_type": "stream",
     "text": [
      "5/5 [==============================] - 2s 433ms/step - loss: 0.3670 - accuracy: 0.8600\n"
     ]
    },
    {
     "data": {
      "text/plain": [
       "[0.36699673533439636, 0.8600000143051147]"
      ]
     },
     "execution_count": 45,
     "metadata": {},
     "output_type": "execute_result"
    }
   ],
   "source": [
    "model.evaluate(testData, testTarget)"
   ]
  },
  {
   "cell_type": "code",
   "execution_count": 46,
   "metadata": {},
   "outputs": [
    {
     "data": {
      "image/png": "[encoded data removed]",
      "text/plain": [
       "<Figure size 432x288 with 1 Axes>"
      ]
     },
     "metadata": {
      "needs_background": "light"
     },
     "output_type": "display_data"
    }
   ],
   "source": [
    "# 시각화 해보기\n",
    "plt.plot(history.history['loss'])\n",
    "plt.plot(history.history['val_loss'])\n",
    "plt.xlabel('epoch')\n",
    "plt.ylabel('loss')\n",
    "plt.legend(['train', 'val'])\n",
    "plt.show()"
   ]
  },
  {
   "cell_type": "code",
   "execution_count": null,
   "metadata": {},
   "outputs": [],
   "source": []
  }
 ],
 "metadata": {
  "kernelspec": {
   "display_name": "Python 3.9.13 ('tensorflow')",
   "language": "python",
   "name": "python3"
  },
  "language_info": {
   "codemirror_mode": {
    "name": "ipython",
    "version": 3
   },
   "file_extension": ".py",
   "mimetype": "text/x-python",
   "name": "python",
   "nbconvert_exporter": "python",
   "pygments_lexer": "ipython3",
   "version": "3.9.13"
  },
  "orig_nbformat": 4,
  "vscode": {
   "interpreter": {
    "hash": "62ad4d91cf02108988eea398b22e5055b749dc5d8f13835b61842a3d4279d5d7"
   }
  }
 },
 "nbformat": 4,
 "nbformat_minor": 2
}
