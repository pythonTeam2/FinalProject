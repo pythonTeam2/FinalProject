{
 "cells": [
  {
   "cell_type": "code",
   "execution_count": 1,
   "metadata": {},
   "outputs": [],
   "source": [
    "import cv2\n",
    "import pandas as pd\n",
    "import numpy as np\n",
    "from tensorflow import keras\n",
    "import glob\n",
    "from PIL import Image\n",
    "import matplotlib.pyplot as plt\n",
    "from sklearn.model_selection import train_test_split"
   ]
  },
  {
   "cell_type": "markdown",
   "metadata": {},
   "source": [
    "---\n",
    "# 장르 데이터 읽기"
   ]
  },
  {
   "cell_type": "code",
   "execution_count": 2,
   "metadata": {},
   "outputs": [
    {
     "data": {
      "text/plain": [
       "496"
      ]
     },
     "execution_count": 2,
     "metadata": {},
     "output_type": "execute_result"
    }
   ],
   "source": [
    "port_path = '../Data/Artist/genre/resized/portrait/*.jpg'\n",
    "port_file = [file for file in glob.glob(port_path)]\n",
    "portCount = len(port_file)\n",
    "portCount"
   ]
  },
  {
   "cell_type": "code",
   "execution_count": 3,
   "metadata": {},
   "outputs": [
    {
     "data": {
      "text/plain": [
       "400"
      ]
     },
     "execution_count": 3,
     "metadata": {},
     "output_type": "execute_result"
    }
   ],
   "source": [
    "port_file_slt = [port_file[id] for id in np.random.randint(0, portCount, size=400)]\n",
    "portCount = len(port_file_slt)\n",
    "portCount"
   ]
  },
  {
   "cell_type": "code",
   "execution_count": 4,
   "metadata": {},
   "outputs": [
    {
     "data": {
      "text/plain": [
       "372"
      ]
     },
     "execution_count": 4,
     "metadata": {},
     "output_type": "execute_result"
    }
   ],
   "source": [
    "still_path = '../Data/Artist/genre/resized/still life/*.jpg'\n",
    "still_file = [file for file in glob.glob(still_path)]\n",
    "stillCount = len(still_file)\n",
    "stillCount"
   ]
  },
  {
   "cell_type": "code",
   "execution_count": 5,
   "metadata": {},
   "outputs": [],
   "source": [
    "height = 400\n",
    "width = 600\n",
    "colors = 3\n",
    "numberOfimage = portCount + stillCount"
   ]
  },
  {
   "cell_type": "code",
   "execution_count": 6,
   "metadata": {},
   "outputs": [],
   "source": [
    "trainData = np.zeros(numberOfimage * height * width * colors).reshape(-1, height, width, colors)"
   ]
  },
  {
   "cell_type": "code",
   "execution_count": 7,
   "metadata": {},
   "outputs": [
    {
     "data": {
      "text/plain": [
       "array([0., 0., 0., 0., 0., 0., 0., 0., 0., 0., 0., 0., 0., 0., 0., 0., 0.,\n",
       "       0., 0., 0., 0., 0., 0., 0., 0., 0., 0., 0., 0., 0., 0., 0., 0., 0.,\n",
       "       0., 0., 0., 0., 0., 0., 0., 0., 0., 0., 0., 0., 0., 0., 0., 0., 0.,\n",
       "       0., 0., 0., 0., 0., 0., 0., 0., 0., 0., 0., 0., 0., 0., 0., 0., 0.,\n",
       "       0., 0., 0., 0., 0., 0., 0., 0., 0., 0., 0., 0., 0., 0., 0., 0., 0.,\n",
       "       0., 0., 0., 0., 0., 0., 0., 0., 0., 0., 0., 0., 0., 0., 0., 0., 0.,\n",
       "       0., 0., 0., 0., 0., 0., 0., 0., 0., 0., 0., 0., 0., 0., 0., 0., 0.,\n",
       "       0., 0., 0., 0., 0., 0., 0., 0., 0., 0., 0., 0., 0., 0., 0., 0., 0.,\n",
       "       0., 0., 0., 0., 0., 0., 0., 0., 0., 0., 0., 0., 0., 0., 0., 0., 0.,\n",
       "       0., 0., 0., 0., 0., 0., 0., 0., 0., 0., 0., 0., 0., 0., 0., 0., 0.,\n",
       "       0., 0., 0., 0., 0., 0., 0., 0., 0., 0., 0., 0., 0., 0., 0., 0., 0.,\n",
       "       0., 0., 0., 0., 0., 0., 0., 0., 0., 0., 0., 0., 0., 0., 0., 0., 0.,\n",
       "       0., 0., 0., 0., 0., 0., 0., 0., 0., 0., 0., 0., 0., 0., 0., 0., 0.,\n",
       "       0., 0., 0., 0., 0., 0., 0., 0., 0., 0., 0., 0., 0., 0., 0., 0., 0.,\n",
       "       0., 0., 0., 0., 0., 0., 0., 0., 0., 0., 0., 0., 0., 0., 0., 0., 0.,\n",
       "       0., 0., 0., 0., 0., 0., 0., 0., 0., 0., 0., 0., 0., 0., 0., 0., 0.,\n",
       "       0., 0., 0., 0., 0., 0., 0., 0., 0., 0., 0., 0., 0., 0., 0., 0., 0.,\n",
       "       0., 0., 0., 0., 0., 0., 0., 0., 0., 0., 0., 0., 0., 0., 0., 0., 0.,\n",
       "       0., 0., 0., 0., 0., 0., 0., 0., 0., 0., 0., 0., 0., 0., 0., 0., 0.,\n",
       "       0., 0., 0., 0., 0., 0., 0., 0., 0., 0., 0., 0., 0., 0., 0., 0., 0.,\n",
       "       0., 0., 0., 0., 0., 0., 0., 0., 0., 0., 0., 0., 0., 0., 0., 0., 0.,\n",
       "       0., 0., 0., 0., 0., 0., 0., 0., 0., 0., 0., 0., 0., 0., 0., 0., 0.,\n",
       "       0., 0., 0., 0., 0., 0., 0., 0., 0., 0., 0., 0., 0., 0., 0., 0., 0.,\n",
       "       0., 0., 0., 0., 0., 0., 0., 0., 0., 1., 1., 1., 1., 1., 1., 1., 1.,\n",
       "       1., 1., 1., 1., 1., 1., 1., 1., 1., 1., 1., 1., 1., 1., 1., 1., 1.,\n",
       "       1., 1., 1., 1., 1., 1., 1., 1., 1., 1., 1., 1., 1., 1., 1., 1., 1.,\n",
       "       1., 1., 1., 1., 1., 1., 1., 1., 1., 1., 1., 1., 1., 1., 1., 1., 1.,\n",
       "       1., 1., 1., 1., 1., 1., 1., 1., 1., 1., 1., 1., 1., 1., 1., 1., 1.,\n",
       "       1., 1., 1., 1., 1., 1., 1., 1., 1., 1., 1., 1., 1., 1., 1., 1., 1.,\n",
       "       1., 1., 1., 1., 1., 1., 1., 1., 1., 1., 1., 1., 1., 1., 1., 1., 1.,\n",
       "       1., 1., 1., 1., 1., 1., 1., 1., 1., 1., 1., 1., 1., 1., 1., 1., 1.,\n",
       "       1., 1., 1., 1., 1., 1., 1., 1., 1., 1., 1., 1., 1., 1., 1., 1., 1.,\n",
       "       1., 1., 1., 1., 1., 1., 1., 1., 1., 1., 1., 1., 1., 1., 1., 1., 1.,\n",
       "       1., 1., 1., 1., 1., 1., 1., 1., 1., 1., 1., 1., 1., 1., 1., 1., 1.,\n",
       "       1., 1., 1., 1., 1., 1., 1., 1., 1., 1., 1., 1., 1., 1., 1., 1., 1.,\n",
       "       1., 1., 1., 1., 1., 1., 1., 1., 1., 1., 1., 1., 1., 1., 1., 1., 1.,\n",
       "       1., 1., 1., 1., 1., 1., 1., 1., 1., 1., 1., 1., 1., 1., 1., 1., 1.,\n",
       "       1., 1., 1., 1., 1., 1., 1., 1., 1., 1., 1., 1., 1., 1., 1., 1., 1.,\n",
       "       1., 1., 1., 1., 1., 1., 1., 1., 1., 1., 1., 1., 1., 1., 1., 1., 1.,\n",
       "       1., 1., 1., 1., 1., 1., 1., 1., 1., 1., 1., 1., 1., 1., 1., 1., 1.,\n",
       "       1., 1., 1., 1., 1., 1., 1., 1., 1., 1., 1., 1., 1., 1., 1., 1., 1.,\n",
       "       1., 1., 1., 1., 1., 1., 1., 1., 1., 1., 1., 1., 1., 1., 1., 1., 1.,\n",
       "       1., 1., 1., 1., 1., 1., 1., 1., 1., 1., 1., 1., 1., 1., 1., 1., 1.,\n",
       "       1., 1., 1., 1., 1., 1., 1., 1., 1., 1., 1., 1., 1., 1., 1., 1., 1.,\n",
       "       1., 1., 1., 1., 1., 1., 1., 1., 1., 1., 1., 1., 1., 1., 1., 1., 1.,\n",
       "       1., 1., 1., 1., 1., 1., 1.])"
      ]
     },
     "execution_count": 7,
     "metadata": {},
     "output_type": "execute_result"
    }
   ],
   "source": [
    "targetData = np.concatenate([np.zeros(portCount), np.ones(stillCount)]) # 0 : portrait, 1 : still Count\n",
    "targetData"
   ]
  },
  {
   "cell_type": "code",
   "execution_count": 8,
   "metadata": {},
   "outputs": [],
   "source": [
    "i = 0\n",
    "for id in range(portCount):\n",
    "    img = np.array(Image.open(port_file_slt[id]), np.int32)\n",
    "    trainData[i] = img\n",
    "    i += 1\n"
   ]
  },
  {
   "cell_type": "code",
   "execution_count": 9,
   "metadata": {},
   "outputs": [],
   "source": [
    "for id in range(stillCount):\n",
    "    img = np.array(Image.open(still_file[id]), np.int32)\n",
    "    trainData[i] = img\n",
    "    i += 1\n"
   ]
  },
  {
   "cell_type": "markdown",
   "metadata": {},
   "source": [
    "---\n",
    "# 학습, 검증, 테스트 데이터 분리"
   ]
  },
  {
   "cell_type": "code",
   "execution_count": 10,
   "metadata": {},
   "outputs": [],
   "source": [
    "train = trainData / 255.0"
   ]
  },
  {
   "cell_type": "code",
   "execution_count": 11,
   "metadata": {},
   "outputs": [],
   "source": [
    "trainData, testData, trainTarget, testTarget = train_test_split(\n",
    "    train, targetData, test_size=0.2, random_state=42\n",
    ")\n",
    "\n",
    "trainData, valData, trainTarget, valTarget = train_test_split(\n",
    "    trainData, trainTarget, test_size=0.2, random_state=42\n",
    ")"
   ]
  },
  {
   "cell_type": "code",
   "execution_count": 12,
   "metadata": {},
   "outputs": [
    {
     "name": "stdout",
     "output_type": "stream",
     "text": [
      "(493, 400, 600, 3)\n",
      "(493,)\n",
      "(124, 400, 600, 3)\n",
      "(124,)\n",
      "(155, 400, 600, 3)\n",
      "(155,)\n"
     ]
    }
   ],
   "source": [
    "print(trainData.shape)\n",
    "print(trainTarget.shape)\n",
    "print(valData.shape)\n",
    "print(valTarget.shape)\n",
    "print(testData.shape)\n",
    "print(testTarget.shape)"
   ]
  },
  {
   "cell_type": "markdown",
   "metadata": {},
   "source": [
    "---\n",
    "# 딥러닝 모델 생성"
   ]
  },
  {
   "cell_type": "code",
   "execution_count": 13,
   "metadata": {},
   "outputs": [
    {
     "name": "stdout",
     "output_type": "stream",
     "text": [
      "Metal device set to: Apple M1 Pro\n",
      "\n",
      "systemMemory: 32.00 GB\n",
      "maxCacheSize: 10.67 GB\n",
      "\n"
     ]
    },
    {
     "name": "stderr",
     "output_type": "stream",
     "text": [
      "2022-08-04 15:17:47.736586: I tensorflow/core/common_runtime/pluggable_device/pluggable_device_factory.cc:305] Could not identify NUMA node of platform GPU ID 0, defaulting to 0. Your kernel may not have been built with NUMA support.\n",
      "2022-08-04 15:17:47.736735: I tensorflow/core/common_runtime/pluggable_device/pluggable_device_factory.cc:271] Created TensorFlow device (/job:localhost/replica:0/task:0/device:GPU:0 with 0 MB memory) -> physical PluggableDevice (device: 0, name: METAL, pci bus id: <undefined>)\n"
     ]
    }
   ],
   "source": [
    "model = keras.Sequential()"
   ]
  },
  {
   "cell_type": "code",
   "execution_count": 14,
   "metadata": {},
   "outputs": [],
   "source": [
    "model.add(\n",
    "    keras.layers.Conv2D(\n",
    "        64, \n",
    "        kernel_size = 3, \n",
    "        activation = 'relu',\n",
    "        padding = 'same',\n",
    "        input_shape = (height, width, colors) \n",
    "    )\n",
    ")"
   ]
  },
  {
   "cell_type": "code",
   "execution_count": 15,
   "metadata": {},
   "outputs": [],
   "source": [
    "model.add(keras.layers.MaxPooling2D(2))"
   ]
  },
  {
   "cell_type": "code",
   "execution_count": 16,
   "metadata": {},
   "outputs": [],
   "source": [
    "model.add(\n",
    "    keras.layers.Conv2D(\n",
    "        64, \n",
    "        kernel_size = 3, \n",
    "        activation = 'relu',\n",
    "        padding = 'same',\n",
    "    )\n",
    ")"
   ]
  },
  {
   "cell_type": "code",
   "execution_count": 17,
   "metadata": {},
   "outputs": [],
   "source": [
    "model.add(keras.layers.MaxPooling2D(2))"
   ]
  },
  {
   "cell_type": "code",
   "execution_count": 18,
   "metadata": {},
   "outputs": [],
   "source": [
    "model.add(\n",
    "    keras.layers.Conv2D(\n",
    "        128, \n",
    "        kernel_size = 3, \n",
    "        activation = 'relu',\n",
    "        padding = 'same',\n",
    "    )\n",
    ")"
   ]
  },
  {
   "cell_type": "code",
   "execution_count": 19,
   "metadata": {},
   "outputs": [],
   "source": [
    "model.add(keras.layers.MaxPooling2D(2))"
   ]
  },
  {
   "cell_type": "code",
   "execution_count": 20,
   "metadata": {},
   "outputs": [],
   "source": [
    "model.add(keras.layers.Flatten())\n",
    "model.add(keras.layers.Dense(200, activation='relu'))\n",
    "model.add(keras.layers.Dropout(0.7))  # 50% Drop Out\n",
    "model.add(keras.layers.Dense(200, activation='relu'))\n",
    "model.add(keras.layers.Dropout(0.7))  # 50% Drop Out\n",
    "model.add(keras.layers.Dense(2, activation='sigmoid'))"
   ]
  },
  {
   "cell_type": "code",
   "execution_count": 21,
   "metadata": {},
   "outputs": [
    {
     "name": "stdout",
     "output_type": "stream",
     "text": [
      "Model: \"sequential\"\n",
      "_________________________________________________________________\n",
      " Layer (type)                Output Shape              Param #   \n",
      "=================================================================\n",
      " conv2d (Conv2D)             (None, 400, 600, 64)      1792      \n",
      "                                                                 \n",
      " max_pooling2d (MaxPooling2D  (None, 200, 300, 64)     0         \n",
      " )                                                               \n",
      "                                                                 \n",
      " conv2d_1 (Conv2D)           (None, 200, 300, 64)      36928     \n",
      "                                                                 \n",
      " max_pooling2d_1 (MaxPooling  (None, 100, 150, 64)     0         \n",
      " 2D)                                                             \n",
      "                                                                 \n",
      " conv2d_2 (Conv2D)           (None, 100, 150, 128)     73856     \n",
      "                                                                 \n",
      " max_pooling2d_2 (MaxPooling  (None, 50, 75, 128)      0         \n",
      " 2D)                                                             \n",
      "                                                                 \n",
      " flatten (Flatten)           (None, 480000)            0         \n",
      "                                                                 \n",
      " dense (Dense)               (None, 200)               96000200  \n",
      "                                                                 \n",
      " dropout (Dropout)           (None, 200)               0         \n",
      "                                                                 \n",
      " dense_1 (Dense)             (None, 200)               40200     \n",
      "                                                                 \n",
      " dropout_1 (Dropout)         (None, 200)               0         \n",
      "                                                                 \n",
      " dense_2 (Dense)             (None, 2)                 402       \n",
      "                                                                 \n",
      "=================================================================\n",
      "Total params: 96,153,378\n",
      "Trainable params: 96,153,378\n",
      "Non-trainable params: 0\n",
      "_________________________________________________________________\n"
     ]
    }
   ],
   "source": [
    "model.summary()"
   ]
  },
  {
   "cell_type": "code",
   "execution_count": 22,
   "metadata": {},
   "outputs": [
    {
     "name": "stdout",
     "output_type": "stream",
     "text": [
      "Epoch 1/50\n"
     ]
    },
    {
     "name": "stderr",
     "output_type": "stream",
     "text": [
      "2022-08-04 15:17:48.821121: W tensorflow/core/platform/profile_utils/cpu_utils.cc:128] Failed to get CPU frequency: 0 Hz\n",
      "2022-08-04 15:17:49.075309: I tensorflow/core/grappler/optimizers/custom_graph_optimizer_registry.cc:113] Plugin optimizer for device_type GPU is enabled.\n"
     ]
    },
    {
     "name": "stdout",
     "output_type": "stream",
     "text": [
      "16/16 [==============================] - ETA: 0s - loss: 0.9874 - accuracy: 0.6268"
     ]
    },
    {
     "name": "stderr",
     "output_type": "stream",
     "text": [
      "2022-08-04 15:18:09.041983: I tensorflow/core/grappler/optimizers/custom_graph_optimizer_registry.cc:113] Plugin optimizer for device_type GPU is enabled.\n"
     ]
    },
    {
     "name": "stdout",
     "output_type": "stream",
     "text": [
      "16/16 [==============================] - 23s 1s/step - loss: 0.9874 - accuracy: 0.6268 - val_loss: 0.4287 - val_accuracy: 0.8710\n",
      "Epoch 2/50\n",
      "16/16 [==============================] - 22s 1s/step - loss: 0.4987 - accuracy: 0.8114 - val_loss: 0.3769 - val_accuracy: 0.8629\n",
      "Epoch 3/50\n",
      "16/16 [==============================] - 22s 1s/step - loss: 0.4336 - accuracy: 0.8215 - val_loss: 0.3786 - val_accuracy: 0.8629\n",
      "Epoch 4/50\n",
      "16/16 [==============================] - 22s 1s/step - loss: 0.3875 - accuracy: 0.8357 - val_loss: 0.3605 - val_accuracy: 0.8871\n",
      "Epoch 5/50\n",
      "16/16 [==============================] - 21s 1s/step - loss: 0.3850 - accuracy: 0.8418 - val_loss: 0.3438 - val_accuracy: 0.8952\n",
      "Epoch 6/50\n",
      "16/16 [==============================] - 22s 1s/step - loss: 0.3241 - accuracy: 0.8519 - val_loss: 0.3126 - val_accuracy: 0.8790\n",
      "Epoch 7/50\n",
      "16/16 [==============================] - 22s 1s/step - loss: 0.3743 - accuracy: 0.8519 - val_loss: 0.3167 - val_accuracy: 0.8871\n",
      "Epoch 8/50\n",
      "16/16 [==============================] - 23s 1s/step - loss: 0.3321 - accuracy: 0.8783 - val_loss: 0.3437 - val_accuracy: 0.8790\n",
      "Epoch 9/50\n",
      "16/16 [==============================] - 23s 1s/step - loss: 0.2918 - accuracy: 0.8864 - val_loss: 0.3178 - val_accuracy: 0.9113\n",
      "Epoch 10/50\n",
      "16/16 [==============================] - 23s 1s/step - loss: 0.2712 - accuracy: 0.8864 - val_loss: 0.3466 - val_accuracy: 0.8468\n",
      "Epoch 11/50\n",
      "16/16 [==============================] - 23s 1s/step - loss: 0.2539 - accuracy: 0.8925 - val_loss: 0.3126 - val_accuracy: 0.8790\n",
      "Epoch 12/50\n",
      "16/16 [==============================] - 24s 1s/step - loss: 0.1638 - accuracy: 0.9452 - val_loss: 0.3120 - val_accuracy: 0.8871\n",
      "Epoch 13/50\n",
      "16/16 [==============================] - 24s 1s/step - loss: 0.1088 - accuracy: 0.9574 - val_loss: 0.2645 - val_accuracy: 0.9113\n",
      "Epoch 14/50\n",
      "16/16 [==============================] - 22s 1s/step - loss: 0.1415 - accuracy: 0.9533 - val_loss: 0.2681 - val_accuracy: 0.9032\n",
      "Epoch 15/50\n",
      "16/16 [==============================] - 22s 1s/step - loss: 0.1073 - accuracy: 0.9635 - val_loss: 0.2640 - val_accuracy: 0.9032\n",
      "Epoch 16/50\n",
      "16/16 [==============================] - 21s 1s/step - loss: 0.1140 - accuracy: 0.9473 - val_loss: 0.2720 - val_accuracy: 0.9032\n",
      "Epoch 17/50\n",
      "16/16 [==============================] - 22s 1s/step - loss: 0.0713 - accuracy: 0.9858 - val_loss: 0.2919 - val_accuracy: 0.8871\n",
      "Epoch 18/50\n",
      "16/16 [==============================] - 22s 1s/step - loss: 0.0656 - accuracy: 0.9797 - val_loss: 0.2799 - val_accuracy: 0.9032\n",
      "Epoch 19/50\n",
      "16/16 [==============================] - 22s 1s/step - loss: 0.0445 - accuracy: 0.9838 - val_loss: 0.2954 - val_accuracy: 0.8871\n",
      "Epoch 20/50\n",
      "16/16 [==============================] - 22s 1s/step - loss: 0.0335 - accuracy: 0.9919 - val_loss: 0.2785 - val_accuracy: 0.9194\n"
     ]
    }
   ],
   "source": [
    "# 모델 학습하기\n",
    "model.compile(\n",
    "    optimizer = 'adam',\n",
    "    loss = 'sparse_categorical_crossentropy',\n",
    "    metrics ='accuracy'\n",
    ")\n",
    "\n",
    "checkpoint_cb = keras.callbacks.ModelCheckpoint(\"../Data/Artist/model/port_still_v3.h5\")\n",
    "early_stopping_cb = keras.callbacks.EarlyStopping(patience=5, restore_best_weights=True)\n",
    "\n",
    "history = model.fit(\n",
    "    trainData, \n",
    "    trainTarget, \n",
    "    epochs=50, \n",
    "    validation_data=[valData, valTarget],\n",
    "    callbacks=[checkpoint_cb, early_stopping_cb]\n",
    ")"
   ]
  },
  {
   "cell_type": "code",
   "execution_count": 23,
   "metadata": {},
   "outputs": [
    {
     "name": "stdout",
     "output_type": "stream",
     "text": [
      "5/5 [==============================] - 2s 395ms/step - loss: 0.2045 - accuracy: 0.9226\n"
     ]
    },
    {
     "data": {
      "text/plain": [
       "[0.20449817180633545, 0.9225806593894958]"
      ]
     },
     "execution_count": 23,
     "metadata": {},
     "output_type": "execute_result"
    }
   ],
   "source": [
    "model.evaluate(testData, testTarget)"
   ]
  },
  {
   "cell_type": "code",
   "execution_count": 24,
   "metadata": {},
   "outputs": [
    {
     "data": {
      "image/png": "[encoded data removed]",
      "text/plain": [
       "<Figure size 432x288 with 1 Axes>"
      ]
     },
     "metadata": {
      "needs_background": "light"
     },
     "output_type": "display_data"
    }
   ],
   "source": [
    "# 시각화 해보기\n",
    "plt.plot(history.history['loss'])\n",
    "plt.plot(history.history['val_loss'])\n",
    "plt.xlabel('epoch')\n",
    "plt.ylabel('loss')\n",
    "plt.legend(['train', 'val'])\n",
    "plt.show()"
   ]
  },
  {
   "cell_type": "code",
   "execution_count": null,
   "metadata": {},
   "outputs": [],
   "source": []
  }
 ],
 "metadata": {
  "kernelspec": {
   "display_name": "Python 3.9.13 ('tensorflow')",
   "language": "python",
   "name": "python3"
  },
  "language_info": {
   "codemirror_mode": {
    "name": "ipython",
    "version": 3
   },
   "file_extension": ".py",
   "mimetype": "text/x-python",
   "name": "python",
   "nbconvert_exporter": "python",
   "pygments_lexer": "ipython3",
   "version": "3.9.13"
  },
  "orig_nbformat": 4,
  "vscode": {
   "interpreter": {
    "hash": "62ad4d91cf02108988eea398b22e5055b749dc5d8f13835b61842a3d4279d5d7"
   }
  }
 },
 "nbformat": 4,
 "nbformat_minor": 2
}
