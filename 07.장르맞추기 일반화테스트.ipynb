{
 "cells": [
  {
   "cell_type": "code",
   "execution_count": 80,
   "metadata": {},
   "outputs": [],
   "source": [
    "import cv2\n",
    "from PIL import Image\n",
    "import matplotlib.pyplot as plt\n",
    "import glob\n",
    "import pandas as pd\n",
    "import numpy as np\n",
    "from tensorflow import keras\n",
    "from collections import Counter"
   ]
  },
  {
   "cell_type": "code",
   "execution_count": 81,
   "metadata": {},
   "outputs": [],
   "source": [
    "def imageResize(src, max_height):\n",
    "    \n",
    "    max_width = np.uint(max_height * 1.5)\n",
    "\n",
    "    height, width = src.shape[0:2]\n",
    "    ratio = height / max_height\n",
    "    \n",
    "    # 입력 이미지의 높이가 설정한 이미지의 최대 높이보다 크면 리사이즈 수행\n",
    "    if height > max_height :\n",
    "        resize_height = max_height\n",
    "        resize_width = np.uint(width // ratio)\n",
    "        img = cv2.resize(src, (resize_width, resize_height), cv2.INTER_AREA)\n",
    "        dy = 0\n",
    "    \n",
    "    # 입력 이미지의 높이가 설정한 이미지의 최대 높이보다 작으면 리사이즈 수행하지 않음\n",
    "    else : \n",
    "        resize_height = height\n",
    "        resize_width = width\n",
    "        dy = (max_height - resize_height) // 2\n",
    "        img = src\n",
    "\n",
    "    dx = (max_width - resize_width) // 2\n",
    "    mtrx = np.float32([[1,0,dx],[0,1,dy]])\n",
    "\n",
    "\n",
    "    # 입력 이미지를 규격 프레임의 중심에 넣는다\n",
    "    return cv2.warpAffine(img, mtrx, (max_width, max_height))"
   ]
  },
  {
   "cell_type": "markdown",
   "metadata": {},
   "source": [
    "---\n",
    "# 학습에 사용한 파일 리스트 확인"
   ]
  },
  {
   "cell_type": "code",
   "execution_count": 82,
   "metadata": {},
   "outputs": [
    {
     "data": {
      "text/plain": [
       "['2100.jpg', '50063.jpg', '41344.jpg', '22152.jpg', '95854.jpg']"
      ]
     },
     "execution_count": 82,
     "metadata": {},
     "output_type": "execute_result"
    }
   ],
   "source": [
    "lenrned_landscape = [file.replace('../Data/Artist/genre/resized/landscape/', '') for file in glob.glob('../Data/Artist/genre/resized/landscape/*.jpg')]\n",
    "lenrned_landscape[0:5]"
   ]
  },
  {
   "cell_type": "code",
   "execution_count": 83,
   "metadata": {},
   "outputs": [
    {
     "data": {
      "text/plain": [
       "['54563.jpg', '88434.jpg', '91824.jpg', '64311.jpg', '27566.jpg']"
      ]
     },
     "execution_count": 83,
     "metadata": {},
     "output_type": "execute_result"
    }
   ],
   "source": [
    "lenrned_portrait = [file.replace('../Data/Artist/genre/resized/portrait/', '') for file in glob.glob('../Data/Artist/genre/resized/portrait/*.jpg')]\n",
    "lenrned_portrait[0:5]"
   ]
  },
  {
   "cell_type": "code",
   "execution_count": 84,
   "metadata": {},
   "outputs": [
    {
     "data": {
      "text/plain": [
       "['48638.jpg', '47286.jpg', '36696.jpg', '3008.jpg', '64675.jpg']"
      ]
     },
     "execution_count": 84,
     "metadata": {},
     "output_type": "execute_result"
    }
   ],
   "source": [
    "lenrned_stillLife = [file.replace('../Data/Artist/genre/resized/still life/', '') for file in glob.glob('../Data/Artist/genre/resized/still life/*.jpg')]\n",
    "lenrned_stillLife[0:5]"
   ]
  },
  {
   "cell_type": "markdown",
   "metadata": {},
   "source": [
    "---\n",
    "## 학습안한 파일을 각각 200개씩 선택하여 리사이즈"
   ]
  },
  {
   "cell_type": "code",
   "execution_count": 85,
   "metadata": {},
   "outputs": [
    {
     "data": {
      "text/html": [
       "<div>\n",
       "<style scoped>\n",
       "    .dataframe tbody tr th:only-of-type {\n",
       "        vertical-align: middle;\n",
       "    }\n",
       "\n",
       "    .dataframe tbody tr th {\n",
       "        vertical-align: top;\n",
       "    }\n",
       "\n",
       "    .dataframe thead th {\n",
       "        text-align: right;\n",
       "    }\n",
       "</style>\n",
       "<table border=\"1\" class=\"dataframe\">\n",
       "  <thead>\n",
       "    <tr style=\"text-align: right;\">\n",
       "      <th></th>\n",
       "      <th>Unnamed: 0</th>\n",
       "      <th>artist</th>\n",
       "      <th>date</th>\n",
       "      <th>genre</th>\n",
       "      <th>pixelsx</th>\n",
       "      <th>pixelsy</th>\n",
       "      <th>size_bytes</th>\n",
       "      <th>source</th>\n",
       "      <th>style</th>\n",
       "      <th>title</th>\n",
       "      <th>artist_group</th>\n",
       "      <th>in_train</th>\n",
       "      <th>new_filename</th>\n",
       "    </tr>\n",
       "  </thead>\n",
       "  <tbody>\n",
       "    <tr>\n",
       "      <th>0</th>\n",
       "      <td>0</td>\n",
       "      <td>Barnett Newman</td>\n",
       "      <td>1955.0</td>\n",
       "      <td>abstract</td>\n",
       "      <td>15530.0</td>\n",
       "      <td>6911.0</td>\n",
       "      <td>9201912.0</td>\n",
       "      <td>wikiart</td>\n",
       "      <td>Color Field Painting</td>\n",
       "      <td>Uriel</td>\n",
       "      <td>train_only</td>\n",
       "      <td>True</td>\n",
       "      <td>102257.jpg</td>\n",
       "    </tr>\n",
       "    <tr>\n",
       "      <th>1</th>\n",
       "      <td>1</td>\n",
       "      <td>Barnett Newman</td>\n",
       "      <td>1950.0</td>\n",
       "      <td>abstract</td>\n",
       "      <td>14559.0</td>\n",
       "      <td>6866.0</td>\n",
       "      <td>8867532.0</td>\n",
       "      <td>wikiart</td>\n",
       "      <td>Color Field Painting</td>\n",
       "      <td>Vir Heroicus Sublimis</td>\n",
       "      <td>train_only</td>\n",
       "      <td>True</td>\n",
       "      <td>75232.jpg</td>\n",
       "    </tr>\n",
       "    <tr>\n",
       "      <th>2</th>\n",
       "      <td>2</td>\n",
       "      <td>kiri nichol</td>\n",
       "      <td>2013.0</td>\n",
       "      <td>NaN</td>\n",
       "      <td>9003.0</td>\n",
       "      <td>9004.0</td>\n",
       "      <td>1756681.0</td>\n",
       "      <td>NaN</td>\n",
       "      <td>Neoplasticism</td>\n",
       "      <td>NaN</td>\n",
       "      <td>test_only</td>\n",
       "      <td>False</td>\n",
       "      <td>32145.jpg</td>\n",
       "    </tr>\n",
       "    <tr>\n",
       "      <th>3</th>\n",
       "      <td>3</td>\n",
       "      <td>kiri nichol</td>\n",
       "      <td>2013.0</td>\n",
       "      <td>NaN</td>\n",
       "      <td>9003.0</td>\n",
       "      <td>9004.0</td>\n",
       "      <td>1942046.0</td>\n",
       "      <td>NaN</td>\n",
       "      <td>Neoplasticism</td>\n",
       "      <td>NaN</td>\n",
       "      <td>test_only</td>\n",
       "      <td>False</td>\n",
       "      <td>20304.jpg</td>\n",
       "    </tr>\n",
       "    <tr>\n",
       "      <th>4</th>\n",
       "      <td>4</td>\n",
       "      <td>kiri nichol</td>\n",
       "      <td>2013.0</td>\n",
       "      <td>NaN</td>\n",
       "      <td>9003.0</td>\n",
       "      <td>9004.0</td>\n",
       "      <td>1526212.0</td>\n",
       "      <td>NaN</td>\n",
       "      <td>Neoplasticism</td>\n",
       "      <td>NaN</td>\n",
       "      <td>test_only</td>\n",
       "      <td>False</td>\n",
       "      <td>836.jpg</td>\n",
       "    </tr>\n",
       "  </tbody>\n",
       "</table>\n",
       "</div>"
      ],
      "text/plain": [
       "   Unnamed: 0          artist    date     genre  pixelsx  pixelsy  size_bytes  \\\n",
       "0           0  Barnett Newman  1955.0  abstract  15530.0   6911.0   9201912.0   \n",
       "1           1  Barnett Newman  1950.0  abstract  14559.0   6866.0   8867532.0   \n",
       "2           2     kiri nichol  2013.0       NaN   9003.0   9004.0   1756681.0   \n",
       "3           3     kiri nichol  2013.0       NaN   9003.0   9004.0   1942046.0   \n",
       "4           4     kiri nichol  2013.0       NaN   9003.0   9004.0   1526212.0   \n",
       "\n",
       "    source                 style                  title artist_group  \\\n",
       "0  wikiart  Color Field Painting                  Uriel   train_only   \n",
       "1  wikiart  Color Field Painting  Vir Heroicus Sublimis   train_only   \n",
       "2      NaN         Neoplasticism                    NaN    test_only   \n",
       "3      NaN         Neoplasticism                    NaN    test_only   \n",
       "4      NaN         Neoplasticism                    NaN    test_only   \n",
       "\n",
       "   in_train new_filename  \n",
       "0      True   102257.jpg  \n",
       "1      True    75232.jpg  \n",
       "2     False    32145.jpg  \n",
       "3     False    20304.jpg  \n",
       "4     False      836.jpg  "
      ]
     },
     "execution_count": 85,
     "metadata": {},
     "output_type": "execute_result"
    }
   ],
   "source": [
    "art = pd.read_csv('../Data/Artist/csv/all_select.csv')\n",
    "art.head()"
   ]
  },
  {
   "cell_type": "markdown",
   "metadata": {},
   "source": [
    "## 학습하지 않은 풍경화 300장 생성 - 이후 이상한 이미지 삭제"
   ]
  },
  {
   "cell_type": "code",
   "execution_count": 86,
   "metadata": {},
   "outputs": [
    {
     "data": {
      "text/html": [
       "<div>\n",
       "<style scoped>\n",
       "    .dataframe tbody tr th:only-of-type {\n",
       "        vertical-align: middle;\n",
       "    }\n",
       "\n",
       "    .dataframe tbody tr th {\n",
       "        vertical-align: top;\n",
       "    }\n",
       "\n",
       "    .dataframe thead th {\n",
       "        text-align: right;\n",
       "    }\n",
       "</style>\n",
       "<table border=\"1\" class=\"dataframe\">\n",
       "  <thead>\n",
       "    <tr style=\"text-align: right;\">\n",
       "      <th></th>\n",
       "      <th>Unnamed: 0</th>\n",
       "      <th>artist</th>\n",
       "      <th>date</th>\n",
       "      <th>genre</th>\n",
       "      <th>pixelsx</th>\n",
       "      <th>pixelsy</th>\n",
       "      <th>size_bytes</th>\n",
       "      <th>source</th>\n",
       "      <th>style</th>\n",
       "      <th>title</th>\n",
       "      <th>artist_group</th>\n",
       "      <th>in_train</th>\n",
       "      <th>new_filename</th>\n",
       "    </tr>\n",
       "  </thead>\n",
       "  <tbody>\n",
       "    <tr>\n",
       "      <th>0</th>\n",
       "      <td>11</td>\n",
       "      <td>Wolfgang Paalen</td>\n",
       "      <td>1937.0</td>\n",
       "      <td>landscape</td>\n",
       "      <td>5331.0</td>\n",
       "      <td>8351.0</td>\n",
       "      <td>1407667.0</td>\n",
       "      <td>wikiart</td>\n",
       "      <td>Surrealism</td>\n",
       "      <td>Forbidden Land</td>\n",
       "      <td>train_only</td>\n",
       "      <td>True</td>\n",
       "      <td>70944.jpg</td>\n",
       "    </tr>\n",
       "    <tr>\n",
       "      <th>1</th>\n",
       "      <td>13</td>\n",
       "      <td>Utagawa Kunisada</td>\n",
       "      <td>NaN</td>\n",
       "      <td>landscape</td>\n",
       "      <td>9293.0</td>\n",
       "      <td>4688.0</td>\n",
       "      <td>10274760.0</td>\n",
       "      <td>wikiart</td>\n",
       "      <td>Ukiyo-e</td>\n",
       "      <td>Snowy landscape with a woman brandishing a bro...</td>\n",
       "      <td>train_only</td>\n",
       "      <td>True</td>\n",
       "      <td>48138.jpg</td>\n",
       "    </tr>\n",
       "    <tr>\n",
       "      <th>2</th>\n",
       "      <td>42</td>\n",
       "      <td>Thomas Gainsborough</td>\n",
       "      <td>1783</td>\n",
       "      <td>landscape</td>\n",
       "      <td>5712.0</td>\n",
       "      <td>4704.0</td>\n",
       "      <td>11791905.0</td>\n",
       "      <td>wikiart</td>\n",
       "      <td>Rococo</td>\n",
       "      <td>The Mall in St. James's Park</td>\n",
       "      <td>train_and_test</td>\n",
       "      <td>True</td>\n",
       "      <td>1164.jpg</td>\n",
       "    </tr>\n",
       "    <tr>\n",
       "      <th>3</th>\n",
       "      <td>130</td>\n",
       "      <td>Ferdinand Hodler</td>\n",
       "      <td>1906</td>\n",
       "      <td>landscape</td>\n",
       "      <td>4476.0</td>\n",
       "      <td>4248.0</td>\n",
       "      <td>11568126.0</td>\n",
       "      <td>wikiart</td>\n",
       "      <td>Symbolism</td>\n",
       "      <td>The Grammont</td>\n",
       "      <td>train_and_test</td>\n",
       "      <td>True</td>\n",
       "      <td>20509.jpg</td>\n",
       "    </tr>\n",
       "    <tr>\n",
       "      <th>4</th>\n",
       "      <td>136</td>\n",
       "      <td>Rudolf von Alt</td>\n",
       "      <td>1898</td>\n",
       "      <td>landscape</td>\n",
       "      <td>4242.0</td>\n",
       "      <td>4368.0</td>\n",
       "      <td>11514609.0</td>\n",
       "      <td>wikiart</td>\n",
       "      <td>Romanticism</td>\n",
       "      <td>The cemetery in Gastein</td>\n",
       "      <td>train_and_test</td>\n",
       "      <td>True</td>\n",
       "      <td>71952.jpg</td>\n",
       "    </tr>\n",
       "  </tbody>\n",
       "</table>\n",
       "</div>"
      ],
      "text/plain": [
       "   Unnamed: 0               artist    date      genre  pixelsx  pixelsy  \\\n",
       "0          11      Wolfgang Paalen  1937.0  landscape   5331.0   8351.0   \n",
       "1          13     Utagawa Kunisada     NaN  landscape   9293.0   4688.0   \n",
       "2          42  Thomas Gainsborough    1783  landscape   5712.0   4704.0   \n",
       "3         130     Ferdinand Hodler    1906  landscape   4476.0   4248.0   \n",
       "4         136       Rudolf von Alt    1898  landscape   4242.0   4368.0   \n",
       "\n",
       "   size_bytes   source        style  \\\n",
       "0   1407667.0  wikiart   Surrealism   \n",
       "1  10274760.0  wikiart      Ukiyo-e   \n",
       "2  11791905.0  wikiart       Rococo   \n",
       "3  11568126.0  wikiart    Symbolism   \n",
       "4  11514609.0  wikiart  Romanticism   \n",
       "\n",
       "                                               title    artist_group  \\\n",
       "0                                    Forbidden Land       train_only   \n",
       "1  Snowy landscape with a woman brandishing a bro...      train_only   \n",
       "2                       The Mall in St. James's Park  train_and_test   \n",
       "3                                       The Grammont  train_and_test   \n",
       "4                            The cemetery in Gastein  train_and_test   \n",
       "\n",
       "   in_train new_filename  \n",
       "0      True    70944.jpg  \n",
       "1      True    48138.jpg  \n",
       "2      True     1164.jpg  \n",
       "3      True    20509.jpg  \n",
       "4      True    71952.jpg  "
      ]
     },
     "execution_count": 86,
     "metadata": {},
     "output_type": "execute_result"
    }
   ],
   "source": [
    "landscape_idx = [idx for idx in art.index if art.iloc[idx]['genre'] == 'landscape']\n",
    "landscape = art.iloc[landscape_idx].reset_index(drop=True)\n",
    "landscape.head()"
   ]
  },
  {
   "cell_type": "code",
   "execution_count": 87,
   "metadata": {},
   "outputs": [],
   "source": [
    "# i = 0\n",
    "# save_path = '../Data/Artist/genre/resized/test_img/landscape/'\n",
    "# path = '../Data/Artist/original/org_select/'\n",
    "\n",
    "# for file in landscape['new_filename']:\n",
    "#     if file not in lenrned_landscape:  # 학습에 사용한 이미지가 아닌경우\n",
    "        \n",
    "#         img = cv2.imread(path+file, cv2.IMREAD_COLOR)\n",
    "#         height, width = img.shape[:2]\n",
    "#         if height * 1.5 > width :\n",
    "#             img = imageResize(img, 400)\n",
    "#             cv2.imwrite(save_path+file, img)\n",
    "#             i += 1\n",
    "#     if i > 300:\n",
    "#         break"
   ]
  },
  {
   "cell_type": "markdown",
   "metadata": {},
   "source": [
    "## 학습하지 않은 정물화 이미지 300개 생성 - 이상한 이미지 삭제"
   ]
  },
  {
   "cell_type": "code",
   "execution_count": 88,
   "metadata": {},
   "outputs": [
    {
     "data": {
      "text/html": [
       "<div>\n",
       "<style scoped>\n",
       "    .dataframe tbody tr th:only-of-type {\n",
       "        vertical-align: middle;\n",
       "    }\n",
       "\n",
       "    .dataframe tbody tr th {\n",
       "        vertical-align: top;\n",
       "    }\n",
       "\n",
       "    .dataframe thead th {\n",
       "        text-align: right;\n",
       "    }\n",
       "</style>\n",
       "<table border=\"1\" class=\"dataframe\">\n",
       "  <thead>\n",
       "    <tr style=\"text-align: right;\">\n",
       "      <th></th>\n",
       "      <th>Unnamed: 0</th>\n",
       "      <th>artist</th>\n",
       "      <th>date</th>\n",
       "      <th>genre</th>\n",
       "      <th>pixelsx</th>\n",
       "      <th>pixelsy</th>\n",
       "      <th>size_bytes</th>\n",
       "      <th>source</th>\n",
       "      <th>style</th>\n",
       "      <th>title</th>\n",
       "      <th>artist_group</th>\n",
       "      <th>in_train</th>\n",
       "      <th>new_filename</th>\n",
       "    </tr>\n",
       "  </thead>\n",
       "  <tbody>\n",
       "    <tr>\n",
       "      <th>0</th>\n",
       "      <td>26</td>\n",
       "      <td>Ferdinand Georg Waldmüller</td>\n",
       "      <td>1824</td>\n",
       "      <td>still life</td>\n",
       "      <td>6192.0</td>\n",
       "      <td>4912.0</td>\n",
       "      <td>5842081.0</td>\n",
       "      <td>wikiart</td>\n",
       "      <td>Biedermeier</td>\n",
       "      <td>Fruit Still Life with an Amazon parrot</td>\n",
       "      <td>train_and_test</td>\n",
       "      <td>True</td>\n",
       "      <td>48177.jpg</td>\n",
       "    </tr>\n",
       "    <tr>\n",
       "      <th>1</th>\n",
       "      <td>30</td>\n",
       "      <td>Clara Peeters</td>\n",
       "      <td>1612.0</td>\n",
       "      <td>still life</td>\n",
       "      <td>4913.0</td>\n",
       "      <td>6007.0</td>\n",
       "      <td>8684895.0</td>\n",
       "      <td>wikiart</td>\n",
       "      <td>Baroque</td>\n",
       "      <td>Still Life with Flowers and Gold Cups of Honor</td>\n",
       "      <td>train_only</td>\n",
       "      <td>True</td>\n",
       "      <td>28363.jpg</td>\n",
       "    </tr>\n",
       "    <tr>\n",
       "      <th>2</th>\n",
       "      <td>169</td>\n",
       "      <td>Juan Gris</td>\n",
       "      <td>1921</td>\n",
       "      <td>still life</td>\n",
       "      <td>5137.0</td>\n",
       "      <td>3396.0</td>\n",
       "      <td>5534860.0</td>\n",
       "      <td>wikipedia</td>\n",
       "      <td>Cubism</td>\n",
       "      <td>The Open Window</td>\n",
       "      <td>train_and_test</td>\n",
       "      <td>True</td>\n",
       "      <td>66723.jpg</td>\n",
       "    </tr>\n",
       "    <tr>\n",
       "      <th>3</th>\n",
       "      <td>206</td>\n",
       "      <td>Frans Snyders</td>\n",
       "      <td>NaN</td>\n",
       "      <td>still life</td>\n",
       "      <td>4580.0</td>\n",
       "      <td>3623.0</td>\n",
       "      <td>7779445.0</td>\n",
       "      <td>wikiart</td>\n",
       "      <td>Baroque</td>\n",
       "      <td>Still Life with dead hares and birds, armchair...</td>\n",
       "      <td>train_and_test</td>\n",
       "      <td>False</td>\n",
       "      <td>80474.jpg</td>\n",
       "    </tr>\n",
       "    <tr>\n",
       "      <th>4</th>\n",
       "      <td>340</td>\n",
       "      <td>Mario Tozzi</td>\n",
       "      <td>1922</td>\n",
       "      <td>still life</td>\n",
       "      <td>3442.0</td>\n",
       "      <td>4120.0</td>\n",
       "      <td>3161693.0</td>\n",
       "      <td>wikiart</td>\n",
       "      <td>NaN</td>\n",
       "      <td>Natura Morta</td>\n",
       "      <td>train_and_test</td>\n",
       "      <td>True</td>\n",
       "      <td>13203.jpg</td>\n",
       "    </tr>\n",
       "  </tbody>\n",
       "</table>\n",
       "</div>"
      ],
      "text/plain": [
       "   Unnamed: 0                      artist    date       genre  pixelsx  \\\n",
       "0          26  Ferdinand Georg Waldmüller    1824  still life   6192.0   \n",
       "1          30               Clara Peeters  1612.0  still life   4913.0   \n",
       "2         169                   Juan Gris    1921  still life   5137.0   \n",
       "3         206               Frans Snyders     NaN  still life   4580.0   \n",
       "4         340                 Mario Tozzi    1922  still life   3442.0   \n",
       "\n",
       "   pixelsy  size_bytes     source        style  \\\n",
       "0   4912.0   5842081.0    wikiart  Biedermeier   \n",
       "1   6007.0   8684895.0    wikiart      Baroque   \n",
       "2   3396.0   5534860.0  wikipedia       Cubism   \n",
       "3   3623.0   7779445.0    wikiart      Baroque   \n",
       "4   4120.0   3161693.0    wikiart          NaN   \n",
       "\n",
       "                                               title    artist_group  \\\n",
       "0            Fruit Still Life with an Amazon parrot   train_and_test   \n",
       "1     Still Life with Flowers and Gold Cups of Honor      train_only   \n",
       "2                                    The Open Window  train_and_test   \n",
       "3  Still Life with dead hares and birds, armchair...  train_and_test   \n",
       "4                                       Natura Morta  train_and_test   \n",
       "\n",
       "   in_train new_filename  \n",
       "0      True    48177.jpg  \n",
       "1      True    28363.jpg  \n",
       "2      True    66723.jpg  \n",
       "3     False    80474.jpg  \n",
       "4      True    13203.jpg  "
      ]
     },
     "execution_count": 88,
     "metadata": {},
     "output_type": "execute_result"
    }
   ],
   "source": [
    "stillLife_idx = [idx for idx in art.index if art.iloc[idx]['genre'] == 'still life']\n",
    "stillLife = art.iloc[stillLife_idx].reset_index(drop=True)\n",
    "stillLife.head()"
   ]
  },
  {
   "cell_type": "code",
   "execution_count": 89,
   "metadata": {},
   "outputs": [],
   "source": [
    "# i = 0\n",
    "# save_path = '../Data/Artist/genre/resized/test_img/still life/'\n",
    "# path = '../Data/Artist/original/org_select/'\n",
    "\n",
    "# for file in stillLife['new_filename']:\n",
    "#     if file not in lenrned_stillLife:  # 학습에 사용한 이미지가 아닌경우\n",
    "        \n",
    "#         img = cv2.imread(path+file, cv2.IMREAD_COLOR)\n",
    "#         height, width = img.shape[:2]\n",
    "#         if height * 1.5 > width :\n",
    "#             img = imageResize(img, 400)\n",
    "#             cv2.imwrite(save_path+file, img)\n",
    "#             i += 1\n",
    "#     if i > 300:\n",
    "#         break"
   ]
  },
  {
   "cell_type": "markdown",
   "metadata": {},
   "source": [
    "## 학습하지 않은 초상화 이미지 300개 생성 - 이상한 이미지 삭제"
   ]
  },
  {
   "cell_type": "code",
   "execution_count": 90,
   "metadata": {},
   "outputs": [
    {
     "data": {
      "text/html": [
       "<div>\n",
       "<style scoped>\n",
       "    .dataframe tbody tr th:only-of-type {\n",
       "        vertical-align: middle;\n",
       "    }\n",
       "\n",
       "    .dataframe tbody tr th {\n",
       "        vertical-align: top;\n",
       "    }\n",
       "\n",
       "    .dataframe thead th {\n",
       "        text-align: right;\n",
       "    }\n",
       "</style>\n",
       "<table border=\"1\" class=\"dataframe\">\n",
       "  <thead>\n",
       "    <tr style=\"text-align: right;\">\n",
       "      <th></th>\n",
       "      <th>Unnamed: 0</th>\n",
       "      <th>artist</th>\n",
       "      <th>date</th>\n",
       "      <th>genre</th>\n",
       "      <th>pixelsx</th>\n",
       "      <th>pixelsy</th>\n",
       "      <th>size_bytes</th>\n",
       "      <th>source</th>\n",
       "      <th>style</th>\n",
       "      <th>title</th>\n",
       "      <th>artist_group</th>\n",
       "      <th>in_train</th>\n",
       "      <th>new_filename</th>\n",
       "    </tr>\n",
       "  </thead>\n",
       "  <tbody>\n",
       "    <tr>\n",
       "      <th>0</th>\n",
       "      <td>48</td>\n",
       "      <td>Jan van Eyck</td>\n",
       "      <td>1433</td>\n",
       "      <td>portrait</td>\n",
       "      <td>4357.0</td>\n",
       "      <td>6021.0</td>\n",
       "      <td>4958316.0</td>\n",
       "      <td>wikiart</td>\n",
       "      <td>Northern Renaissance</td>\n",
       "      <td>A Man in a Turban</td>\n",
       "      <td>train_and_test</td>\n",
       "      <td>False</td>\n",
       "      <td>65895.jpg</td>\n",
       "    </tr>\n",
       "    <tr>\n",
       "      <th>1</th>\n",
       "      <td>55</td>\n",
       "      <td>Konstantin Vasilyev</td>\n",
       "      <td>NaN</td>\n",
       "      <td>portrait</td>\n",
       "      <td>4158.0</td>\n",
       "      <td>6119.0</td>\n",
       "      <td>2579399.0</td>\n",
       "      <td>wikiart</td>\n",
       "      <td>Symbolism</td>\n",
       "      <td>Divination</td>\n",
       "      <td>test_only</td>\n",
       "      <td>False</td>\n",
       "      <td>53464.jpg</td>\n",
       "    </tr>\n",
       "    <tr>\n",
       "      <th>2</th>\n",
       "      <td>72</td>\n",
       "      <td>Mario Tozzi</td>\n",
       "      <td>1976</td>\n",
       "      <td>portrait</td>\n",
       "      <td>4404.0</td>\n",
       "      <td>5333.0</td>\n",
       "      <td>3809347.0</td>\n",
       "      <td>wikiart</td>\n",
       "      <td>NaN</td>\n",
       "      <td>Volto Misterioso</td>\n",
       "      <td>train_and_test</td>\n",
       "      <td>True</td>\n",
       "      <td>99460.jpg</td>\n",
       "    </tr>\n",
       "    <tr>\n",
       "      <th>3</th>\n",
       "      <td>73</td>\n",
       "      <td>Lorenzo Lotto</td>\n",
       "      <td>1547</td>\n",
       "      <td>portrait</td>\n",
       "      <td>5536.0</td>\n",
       "      <td>4226.0</td>\n",
       "      <td>8420464.0</td>\n",
       "      <td>wikiart</td>\n",
       "      <td>High Renaissance</td>\n",
       "      <td>Portrait of Giovanni della Volta with his Wife...</td>\n",
       "      <td>train_and_test</td>\n",
       "      <td>True</td>\n",
       "      <td>5194.jpg</td>\n",
       "    </tr>\n",
       "    <tr>\n",
       "      <th>4</th>\n",
       "      <td>79</td>\n",
       "      <td>Paolo Veronese</td>\n",
       "      <td>NaN</td>\n",
       "      <td>portrait</td>\n",
       "      <td>3688.0</td>\n",
       "      <td>6191.0</td>\n",
       "      <td>7445177.0</td>\n",
       "      <td>wikiart</td>\n",
       "      <td>Mannerism (Late Renaissance)</td>\n",
       "      <td>Boy with a Greyhound</td>\n",
       "      <td>train_and_test</td>\n",
       "      <td>True</td>\n",
       "      <td>840.jpg</td>\n",
       "    </tr>\n",
       "  </tbody>\n",
       "</table>\n",
       "</div>"
      ],
      "text/plain": [
       "   Unnamed: 0               artist  date     genre  pixelsx  pixelsy  \\\n",
       "0          48         Jan van Eyck  1433  portrait   4357.0   6021.0   \n",
       "1          55  Konstantin Vasilyev   NaN  portrait   4158.0   6119.0   \n",
       "2          72          Mario Tozzi  1976  portrait   4404.0   5333.0   \n",
       "3          73        Lorenzo Lotto  1547  portrait   5536.0   4226.0   \n",
       "4          79       Paolo Veronese   NaN  portrait   3688.0   6191.0   \n",
       "\n",
       "   size_bytes   source                         style  \\\n",
       "0   4958316.0  wikiart          Northern Renaissance   \n",
       "1   2579399.0  wikiart                     Symbolism   \n",
       "2   3809347.0  wikiart                           NaN   \n",
       "3   8420464.0  wikiart              High Renaissance   \n",
       "4   7445177.0  wikiart  Mannerism (Late Renaissance)   \n",
       "\n",
       "                                               title    artist_group  \\\n",
       "0                                  A Man in a Turban  train_and_test   \n",
       "1                                         Divination       test_only   \n",
       "2                                   Volto Misterioso  train_and_test   \n",
       "3  Portrait of Giovanni della Volta with his Wife...  train_and_test   \n",
       "4                               Boy with a Greyhound  train_and_test   \n",
       "\n",
       "   in_train new_filename  \n",
       "0     False    65895.jpg  \n",
       "1     False    53464.jpg  \n",
       "2      True    99460.jpg  \n",
       "3      True     5194.jpg  \n",
       "4      True      840.jpg  "
      ]
     },
     "execution_count": 90,
     "metadata": {},
     "output_type": "execute_result"
    }
   ],
   "source": [
    "portrait_idx = [idx for idx in art.index if art.iloc[idx]['genre'] == 'portrait']\n",
    "portrait = art.iloc[portrait_idx].reset_index(drop=True)\n",
    "portrait.head()"
   ]
  },
  {
   "cell_type": "code",
   "execution_count": 91,
   "metadata": {},
   "outputs": [],
   "source": [
    "# i = 0\n",
    "# save_path = '../Data/Artist/genre/resized/test_img/portrait/'\n",
    "# path = '../Data/Artist/original/org_select/'\n",
    "\n",
    "# for file in portrait['new_filename']:\n",
    "#     if file not in lenrned_portrait:  # 학습에 사용한 이미지가 아닌경우\n",
    "        \n",
    "#         img = cv2.imread(path+file, cv2.IMREAD_COLOR)\n",
    "#         height, width = img.shape[:2]\n",
    "#         if height * 1.5 > width :\n",
    "#             img = imageResize(img, 400)\n",
    "#             cv2.imwrite(save_path+file, img)\n",
    "#             i += 1\n",
    "#     if i > 300:\n",
    "#         break"
   ]
  },
  {
   "cell_type": "markdown",
   "metadata": {},
   "source": [
    "\n",
    "## 장르 맞추기 테스트\n",
    "### landscape :0, portrait :1, still life :2"
   ]
  },
  {
   "cell_type": "code",
   "execution_count": 93,
   "metadata": {},
   "outputs": [],
   "source": [
    "# 학습한 모델정보 읽기\n",
    "model_port_still = keras.models.load_model('../Data/Artist/model/model_v3/port_still_v3.h5')\n",
    "model_land_still = keras.models.load_model('../Data/Artist/model/model_v3/land_still_v3.h5')\n",
    "model_land_port = keras.models.load_model('../Data/Artist/model/model_v3/land_port_v3.h5')"
   ]
  },
  {
   "cell_type": "code",
   "execution_count": 94,
   "metadata": {},
   "outputs": [],
   "source": [
    "classes1 = ['portrait', 'stll life']\n",
    "classes2= ['landscape', 'stll life']\n",
    "classes3 = ['landscape', 'portrait']"
   ]
  },
  {
   "cell_type": "markdown",
   "metadata": {},
   "source": [
    "---\n",
    "## 풍경화 맞추기"
   ]
  },
  {
   "cell_type": "code",
   "execution_count": 95,
   "metadata": {},
   "outputs": [],
   "source": [
    "landscape_result = []\n",
    "for file in glob.glob('../Data/Artist/genre/resized/test_img/landscape/*.jpg'):\n",
    "    img = np.array(Image.open(file), np.int32)\n",
    "    img = img.reshape(-1, 400, 600, 3) / 255.0\n",
    "    pred_1 = model_port_still(img)\n",
    "    pred_2 = model_land_still(img)\n",
    "    pred_3 = model_land_port(img)\n",
    "    pred= [classes1[np.argmax(pred_1)], classes2[np.argmax(pred_2)],classes3[np.argmax(pred_3)]]\n",
    "    pred_x = Counter(pred)\n",
    "    landscape_result.append(pred_x.most_common(n=1)[0][0])"
   ]
  },
  {
   "cell_type": "code",
   "execution_count": 96,
   "metadata": {},
   "outputs": [
    {
     "data": {
      "text/plain": [
       "Counter({'landscape': 47, 'stll life': 5, 'prtrait': 5})"
      ]
     },
     "execution_count": 96,
     "metadata": {},
     "output_type": "execute_result"
    }
   ],
   "source": [
    "Counter(landscape_result)"
   ]
  },
  {
   "cell_type": "code",
   "execution_count": 97,
   "metadata": {},
   "outputs": [
    {
     "data": {
      "text/plain": [
       "0.8245614035087719"
      ]
     },
     "execution_count": 97,
     "metadata": {},
     "output_type": "execute_result"
    }
   ],
   "source": [
    "47/(47+5+5)"
   ]
  },
  {
   "cell_type": "markdown",
   "metadata": {},
   "source": [
    "---\n",
    "## 정물화 맞추기"
   ]
  },
  {
   "cell_type": "code",
   "execution_count": 98,
   "metadata": {},
   "outputs": [],
   "source": [
    "stillLife_result = []\n",
    "for file in glob.glob('../Data/Artist/genre/resized/test_img/still life/*.jpg'):\n",
    "    img = np.array(Image.open(file), np.int32)\n",
    "    img = img.reshape(-1, 400, 600, 3) / 255.0\n",
    "    pred_1 = model_port_still(img)\n",
    "    pred_2 = model_land_still(img)\n",
    "    pred_3 = model_land_port(img)\n",
    "    pred= [classes1[np.argmax(pred_1)], classes2[np.argmax(pred_2)],classes3[np.argmax(pred_3)]]\n",
    "    pred_x = Counter(pred)\n",
    "    stillLife_result.append(pred_x.most_common(n=1)[0][0])"
   ]
  },
  {
   "cell_type": "code",
   "execution_count": 99,
   "metadata": {},
   "outputs": [
    {
     "data": {
      "text/plain": [
       "Counter({'prtrait': 7, 'stll life': 38, 'landscape': 6})"
      ]
     },
     "execution_count": 99,
     "metadata": {},
     "output_type": "execute_result"
    }
   ],
   "source": [
    "Counter(stillLife_result)"
   ]
  },
  {
   "cell_type": "code",
   "execution_count": 100,
   "metadata": {},
   "outputs": [
    {
     "data": {
      "text/plain": [
       "0.7450980392156863"
      ]
     },
     "execution_count": 100,
     "metadata": {},
     "output_type": "execute_result"
    }
   ],
   "source": [
    "38/(38+7+6)"
   ]
  },
  {
   "cell_type": "markdown",
   "metadata": {},
   "source": [
    "---\n",
    "# 초상화 맞추기"
   ]
  },
  {
   "cell_type": "code",
   "execution_count": 101,
   "metadata": {},
   "outputs": [],
   "source": [
    "portrait_result = []\n",
    "for file in glob.glob('../Data/Artist/genre/resized/test_img/portrait/*.jpg'):\n",
    "    img = np.array(Image.open(file), np.int32)\n",
    "    img = img.reshape(-1, 400, 600, 3) / 255.0\n",
    "    pred_1 = model_port_still(img)\n",
    "    pred_2 = model_land_still(img)\n",
    "    pred_3 = model_land_port(img)\n",
    "    pred= [classes1[np.argmax(pred_1)], classes2[np.argmax(pred_2)],classes3[np.argmax(pred_3)]]\n",
    "    pred_x = Counter(pred)\n",
    "    portrait_result.append(pred_x.most_common(n=1)[0][0])"
   ]
  },
  {
   "cell_type": "code",
   "execution_count": 102,
   "metadata": {},
   "outputs": [
    {
     "data": {
      "text/plain": [
       "Counter({'prtrait': 39, 'stll life': 10, 'landscape': 1})"
      ]
     },
     "execution_count": 102,
     "metadata": {},
     "output_type": "execute_result"
    }
   ],
   "source": [
    "Counter(portrait_result)"
   ]
  },
  {
   "cell_type": "code",
   "execution_count": 103,
   "metadata": {},
   "outputs": [
    {
     "data": {
      "text/plain": [
       "0.78"
      ]
     },
     "execution_count": 103,
     "metadata": {},
     "output_type": "execute_result"
    }
   ],
   "source": [
    "39/(39+10+1)"
   ]
  },
  {
   "cell_type": "code",
   "execution_count": null,
   "metadata": {},
   "outputs": [],
   "source": []
  }
 ],
 "metadata": {
  "kernelspec": {
   "display_name": "Python 3.9.13 ('tensorflow')",
   "language": "python",
   "name": "python3"
  },
  "language_info": {
   "codemirror_mode": {
    "name": "ipython",
    "version": 3
   },
   "file_extension": ".py",
   "mimetype": "text/x-python",
   "name": "python",
   "nbconvert_exporter": "python",
   "pygments_lexer": "ipython3",
   "version": "3.9.13"
  },
  "orig_nbformat": 4,
  "vscode": {
   "interpreter": {
    "hash": "62ad4d91cf02108988eea398b22e5055b749dc5d8f13835b61842a3d4279d5d7"
   }
  }
 },
 "nbformat": 4,
 "nbformat_minor": 2
}
