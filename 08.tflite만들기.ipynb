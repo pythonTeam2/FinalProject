{
 "cells": [
  {
   "cell_type": "code",
   "execution_count": 1,
   "metadata": {},
   "outputs": [],
   "source": [
    "import tensorflow as tf"
   ]
  },
  {
   "cell_type": "code",
   "execution_count": 4,
   "metadata": {},
   "outputs": [
    {
     "name": "stderr",
     "output_type": "stream",
     "text": [
      "WARNING:absl:Found untraced functions such as _jit_compiled_convolution_op, _jit_compiled_convolution_op, _jit_compiled_convolution_op while saving (showing 3 of 3). These functions will not be directly callable after loading.\n"
     ]
    },
    {
     "name": "stdout",
     "output_type": "stream",
     "text": [
      "INFO:tensorflow:Assets written to: /var/folders/vd/bdjrr0nj4x383vs_8xk_5x9w0000gn/T/tmpco9jgw_v/assets\n"
     ]
    },
    {
     "name": "stderr",
     "output_type": "stream",
     "text": [
      "INFO:tensorflow:Assets written to: /var/folders/vd/bdjrr0nj4x383vs_8xk_5x9w0000gn/T/tmpco9jgw_v/assets\n",
      "2022-08-04 16:06:44.688201: W tensorflow/compiler/mlir/lite/python/tf_tfl_flatbuffer_helpers.cc:362] Ignored output_format.\n",
      "2022-08-04 16:06:44.688217: W tensorflow/compiler/mlir/lite/python/tf_tfl_flatbuffer_helpers.cc:365] Ignored drop_control_dependency.\n",
      "2022-08-04 16:06:44.688317: I tensorflow/cc/saved_model/reader.cc:43] Reading SavedModel from: /var/folders/vd/bdjrr0nj4x383vs_8xk_5x9w0000gn/T/tmpco9jgw_v\n",
      "2022-08-04 16:06:44.689737: I tensorflow/cc/saved_model/reader.cc:81] Reading meta graph with tags { serve }\n",
      "2022-08-04 16:06:44.689743: I tensorflow/cc/saved_model/reader.cc:122] Reading SavedModel debug info (if present) from: /var/folders/vd/bdjrr0nj4x383vs_8xk_5x9w0000gn/T/tmpco9jgw_v\n",
      "2022-08-04 16:06:44.695428: I tensorflow/cc/saved_model/loader.cc:228] Restoring SavedModel bundle.\n",
      "2022-08-04 16:06:45.134099: I tensorflow/cc/saved_model/loader.cc:212] Running initialization op on SavedModel bundle at path: /var/folders/vd/bdjrr0nj4x383vs_8xk_5x9w0000gn/T/tmpco9jgw_v\n",
      "2022-08-04 16:06:45.149944: I tensorflow/cc/saved_model/loader.cc:301] SavedModel load for tags { serve }; Status: success: OK. Took 461628 microseconds.\n"
     ]
    },
    {
     "data": {
      "text/plain": [
       "384617876"
      ]
     },
     "execution_count": 4,
     "metadata": {},
     "output_type": "execute_result"
    }
   ],
   "source": [
    "model = tf.keras.models.load_model(\"../Data/Artist/model/model_v3/port_still_v3.h5\")\n",
    "converter = tf.lite.TFLiteConverter.from_keras_model(model)\n",
    "tflite_model = converter.convert()\n",
    "open('../Data/Artist/model/model_v3/port_still_v3.tflite', \"wb\").write(tflite_model)"
   ]
  },
  {
   "cell_type": "code",
   "execution_count": null,
   "metadata": {},
   "outputs": [],
   "source": []
  }
 ],
 "metadata": {
  "kernelspec": {
   "display_name": "Python 3.9.13 ('tensorflow')",
   "language": "python",
   "name": "python3"
  },
  "language_info": {
   "codemirror_mode": {
    "name": "ipython",
    "version": 3
   },
   "file_extension": ".py",
   "mimetype": "text/x-python",
   "name": "python",
   "nbconvert_exporter": "python",
   "pygments_lexer": "ipython3",
   "version": "3.9.13"
  },
  "orig_nbformat": 4,
  "vscode": {
   "interpreter": {
    "hash": "62ad4d91cf02108988eea398b22e5055b749dc5d8f13835b61842a3d4279d5d7"
   }
  }
 },
 "nbformat": 4,
 "nbformat_minor": 2
}
