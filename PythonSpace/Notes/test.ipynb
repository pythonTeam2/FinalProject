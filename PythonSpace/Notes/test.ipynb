{
 "cells": [
  {
   "cell_type": "code",
   "execution_count": 3,
   "metadata": {},
   "outputs": [],
   "source": [
    "from crypt import methods\n",
    "from flask import Flask, render_template, request\n",
    "from werkzeug.utils import secure_filename\n",
    "import os\n",
    "from PIL import Image\n",
    "import numpy as np\n",
    "from tensorflow import keras\n",
    "from collections import Counter"
   ]
  },
  {
   "cell_type": "code",
   "execution_count": 19,
   "metadata": {},
   "outputs": [],
   "source": [
    "num_of_data = 1\n",
    "img_width_size=600\n",
    "img_height_size=400\n",
    "\n",
    "testImage = np.zeros(num_of_data * img_width_size * img_height_size * 3, dtype=np.int32).reshape(num_of_data, img_height_size, img_width_size, 3)"
   ]
  },
  {
   "cell_type": "code",
   "execution_count": 20,
   "metadata": {},
   "outputs": [
    {
     "data": {
      "text/plain": [
       "(1, 400, 600, 3)"
      ]
     },
     "execution_count": 20,
     "metadata": {},
     "output_type": "execute_result"
    }
   ],
   "source": [
    "testImage.shape"
   ]
  },
  {
   "cell_type": "code",
   "execution_count": 25,
   "metadata": {},
   "outputs": [
    {
     "data": {
      "text/plain": [
       "(400, 600, 3)"
      ]
     },
     "execution_count": 25,
     "metadata": {},
     "output_type": "execute_result"
    }
   ],
   "source": [
    "img = np.array(Image.open('../Data/genre/landscape/100283.jpg'), dtype=np.int32)\n",
    "img.shape"
   ]
  },
  {
   "cell_type": "code",
   "execution_count": 26,
   "metadata": {},
   "outputs": [],
   "source": [
    "testImage = img"
   ]
  },
  {
   "cell_type": "code",
   "execution_count": 32,
   "metadata": {},
   "outputs": [
    {
     "data": {
      "text/plain": [
       "(1, 400, 600, 3)"
      ]
     },
     "execution_count": 32,
     "metadata": {},
     "output_type": "execute_result"
    }
   ],
   "source": [
    "testData = testImage.reshape(1, 400, 600, 3) / 255.0\n",
    "testData.shape"
   ]
  },
  {
   "cell_type": "code",
   "execution_count": 33,
   "metadata": {},
   "outputs": [
    {
     "data": {
      "text/plain": [
       "dtype('float64')"
      ]
     },
     "execution_count": 33,
     "metadata": {},
     "output_type": "execute_result"
    }
   ],
   "source": [
    "testData.astype('float')"
   ]
  },
  {
   "cell_type": "code",
   "execution_count": 28,
   "metadata": {},
   "outputs": [],
   "source": [
    "model_port_still = keras.models.load_model('../Codes/port_still_v3.h5')\n",
    "model_land_still = keras.models.load_model('../Codes/land_still_v3.h5')\n",
    "model_land_port = keras.models.load_model('../Codes/land_port_v3.h5')\n",
    "pred_1 = model_port_still(testData)\n",
    "pred_2 = model_land_still(testData)\n",
    "pred_3 = model_land_port(testData)"
   ]
  },
  {
   "cell_type": "markdown",
   "metadata": {},
   "source": [
    "> 컬러값 포함하면 * 3 있어야된다."
   ]
  },
  {
   "cell_type": "code",
   "execution_count": 29,
   "metadata": {},
   "outputs": [
    {
     "data": {
      "text/plain": [
       "'landscape'"
      ]
     },
     "execution_count": 29,
     "metadata": {},
     "output_type": "execute_result"
    }
   ],
   "source": [
    "classes1 = ['portrait', 'stll life']\n",
    "classes2 = ['landscape', 'stll life']\n",
    "classes3 = ['landscape', 'portrait']\n",
    "pred = [classes1[np.argmax(pred_1)], classes2[np.argmax(pred_2)],classes3[np.argmax(pred_3)]]\n",
    "pred_x = Counter(pred)\n",
    "pred_x.most_common(n=1)[0][0]"
   ]
  }
 ],
 "metadata": {
  "kernelspec": {
   "display_name": "Python 3.9.7 ('base')",
   "language": "python",
   "name": "python3"
  },
  "language_info": {
   "codemirror_mode": {
    "name": "ipython",
    "version": 3
   },
   "file_extension": ".py",
   "mimetype": "text/x-python",
   "name": "python",
   "nbconvert_exporter": "python",
   "pygments_lexer": "ipython3",
   "version": "3.9.7"
  },
  "orig_nbformat": 4,
  "vscode": {
   "interpreter": {
    "hash": "c34e8390e776d2ee205b71ed5a6130fee3cef8da5e87e926ce18e14f4a070d72"
   }
  }
 },
 "nbformat": 4,
 "nbformat_minor": 2
}
